{
 "cells": [
  {
   "cell_type": "code",
   "execution_count": 2,
   "metadata": {},
   "outputs": [
    {
     "name": "stdout",
     "output_type": "stream",
     "text": [
      "/bin/bash: line 1: autotrain: command not found\n"
     ]
    }
   ],
   "source": [
    "!autotrain llm --train \\\n",
    "    --project-name my-llm \\\n",
    "    --model \"mistralai/Mistral-7B-v0.1\" \\\n",
    "    --data-path \"royboy0416/ko-alpaca\" \\\n",
    "    --text_column \"text\" \\\n",
    "    --use-peft \\\n",
    "    --quantization int4\\\n",
    "    --lora_r 16 \\\n",
    "    --train-batch-size 8 \\\n",
    "    --epochs 3 \\\n",
    "    --trainer sft "
   ]
  }
 ],
 "metadata": {
  "kernelspec": {
   "display_name": "torch",
   "language": "python",
   "name": "torch"
  }
 },
 "nbformat": 4,
 "nbformat_minor": 2
}
