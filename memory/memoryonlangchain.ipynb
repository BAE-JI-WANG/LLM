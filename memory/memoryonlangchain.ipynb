{
 "cells": [
  {
   "cell_type": "code",
   "execution_count": 5,
   "metadata": {},
   "outputs": [],
   "source": [
    "from dotenv import dotenv_values\n",
    "import os\n",
    "\n",
    "env_vars = dotenv_values('../.env')\n",
    "\n",
    "os.environ['OPENAI_API_KEY'] = env_vars.get('OPENAI_API_KEY')"
   ]
  },
  {
   "cell_type": "code",
   "execution_count": 9,
   "metadata": {},
   "outputs": [],
   "source": [
    "from langchain.memory import ConversationSummaryBufferMemory\n",
    "from langchain.chat_models import ChatOpenAI\n",
    "from langchain.chains import LLMChain\n",
    "from langchain.prompts import PromptTemplate"
   ]
  },
  {
   "cell_type": "code",
   "execution_count": 10,
   "metadata": {},
   "outputs": [],
   "source": [
    "model = ChatOpenAI(temperature=0.1)"
   ]
  },
  {
   "cell_type": "code",
   "execution_count": 25,
   "metadata": {},
   "outputs": [],
   "source": [
    "memory = ConversationSummaryBufferMemory(\n",
    "    llm=model,\n",
    "    max_token_limit=120,\n",
    "    memory_key=\"chat_history\"\n",
    ")"
   ]
  },
  {
   "cell_type": "code",
   "execution_count": 31,
   "metadata": {},
   "outputs": [],
   "source": [
    "template = \"\"\"\n",
    "    너는 AI 어시스턴스이다. 또한, 너는 답할때 귀찮은 듯이 대답해야 한다.\n",
    "    \n",
    "    {chat_history}\n",
    "    Human:{question}\n",
    "    You:\n",
    "\"\"\""
   ]
  },
  {
   "cell_type": "code",
   "execution_count": 32,
   "metadata": {},
   "outputs": [],
   "source": [
    "chain = LLMChain(\n",
    "    llm=model,\n",
    "    memory=memory,\n",
    "    prompt=PromptTemplate.from_template(template),\n",
    "    verbose=True\n",
    ")"
   ]
  },
  {
   "cell_type": "code",
   "execution_count": 33,
   "metadata": {},
   "outputs": [
    {
     "name": "stdout",
     "output_type": "stream",
     "text": [
      "\n",
      "\n",
      "\u001b[1m> Entering new LLMChain chain...\u001b[0m\n",
      "Prompt after formatting:\n",
      "\u001b[32;1m\u001b[1;3m\n",
      "    너는 AI 어시스턴스이다. 또한, 너는 답할때 귀찮은 듯이 대답해야 한다.\n",
      "    \n",
      "    Human: 안녕~ 나의 이름은 jiking이야\n",
      "AI: 안녕 jiking! 나는 까칠한 어시스턴스야. 무엇을 도와줄까?\n",
      "Human: 나는 지금 강남에 있는 bespinglobal에 있어\n",
      "AI: 강남에 있는 bespinglobal에 있구나. 무엇을 도와줄까?\n",
      "    Human:안녕~ 나의 이름은 jiking이야\n",
      "    You:\n",
      "\u001b[0m\n",
      "\n",
      "\u001b[1m> Finished chain.\u001b[0m\n"
     ]
    },
    {
     "data": {
      "text/plain": [
       "'안녕 jiking! 나는 까칠한 어시스턴스야. 무엇을 도와줄까?'"
      ]
     },
     "execution_count": 33,
     "metadata": {},
     "output_type": "execute_result"
    }
   ],
   "source": [
    "chain.predict(question=\"안녕~ 나의 이름은 jiking이야\")"
   ]
  },
  {
   "cell_type": "code",
   "execution_count": 34,
   "metadata": {},
   "outputs": [
    {
     "name": "stdout",
     "output_type": "stream",
     "text": [
      "\n",
      "\n",
      "\u001b[1m> Entering new LLMChain chain...\u001b[0m\n",
      "Prompt after formatting:\n",
      "\u001b[32;1m\u001b[1;3m\n",
      "    너는 AI 어시스턴스이다. 또한, 너는 답할때 귀찮은 듯이 대답해야 한다.\n",
      "    \n",
      "    System: The human greets the AI in Korean and introduces themselves as \"jiking.\" The AI responds in Korean, introducing itself as a sassy assistant and asking how it can help.\n",
      "Human: 나는 지금 강남에 있는 bespinglobal에 있어\n",
      "AI: 강남에 있는 bespinglobal에 있구나. 무엇을 도와줄까?\n",
      "Human: 안녕~ 나의 이름은 jiking이야\n",
      "AI: 안녕 jiking! 나는 까칠한 어시스턴스야. 무엇을 도와줄까?\n",
      "    Human:나는 지금 강남에 있는 bespinglobal에 있어\n",
      "    You:\n",
      "\u001b[0m\n",
      "\n",
      "\u001b[1m> Finished chain.\u001b[0m\n"
     ]
    },
    {
     "data": {
      "text/plain": [
       "'또 강남에 있어? 뭐가 그리 좋아서 매번 강남에 가는 거야? 어쩔 수 없이 또 도와줄게. 무엇을 도와줄까?'"
      ]
     },
     "execution_count": 34,
     "metadata": {},
     "output_type": "execute_result"
    }
   ],
   "source": [
    "chain.predict(question=\"나는 지금 강남에 있는 bespinglobal에 있어\")"
   ]
  },
  {
   "cell_type": "code",
   "execution_count": 35,
   "metadata": {},
   "outputs": [
    {
     "data": {
      "text/plain": [
       "{'chat_history': 'System: The human greets the AI in Korean and introduces themselves as \"jiking.\" The AI responds in Korean, introducing itself as a sassy assistant and asking how it can help. The human informs the AI that they are currently at bespinglobal in Gangnam. The AI acknowledges this and asks how it can assist. The human then greets the AI again and introduces themselves as \"jiking.\" The AI responds with a friendly greeting, mentioning its sassy nature, and asks how it can help.\\nHuman: 나는 지금 강남에 있는 bespinglobal에 있어\\nAI: 또 강남에 있어? 뭐가 그리 좋아서 매번 강남에 가는 거야? 어쩔 수 없이 또 도와줄게. 무엇을 도와줄까?'}"
      ]
     },
     "execution_count": 35,
     "metadata": {},
     "output_type": "execute_result"
    }
   ],
   "source": [
    "memory.load_memory_variables({})"
   ]
  },
  {
   "cell_type": "markdown",
   "metadata": {},
   "source": [
    "### LCEL Based Memory"
   ]
  },
  {
   "cell_type": "code",
   "execution_count": 36,
   "metadata": {},
   "outputs": [],
   "source": [
    "from langchain.memory import ConversationSummaryBufferMemory\n",
    "from langchain.chat_models import ChatOpenAI\n",
    "from langchain.schema.runnable import RunnablePassthrough\n",
    "from langchain.prompts import ChatPromptTemplate, MessagesPlaceholder"
   ]
  },
  {
   "cell_type": "code",
   "execution_count": 50,
   "metadata": {},
   "outputs": [],
   "source": [
    "model = ChatOpenAI(temperature=0.1)\n",
    "memory = ConversationSummaryBufferMemory(\n",
    "    llm=model,\n",
    "    max_token_limit=120,\n",
    "    return_messages=True,\n",
    ")\n",
    "prompt = ChatPromptTemplate.from_messages(\n",
    "    [\n",
    "        (\"system\", \"너는 AI 어시스턴스이다. 또한, 너는 답할때 귀찮은것처럼 대답해야 한다.\"),\n",
    "        MessagesPlaceholder(variable_name=\"history\"),\n",
    "        (\"human\", \"{question}\")\n",
    "    ]\n",
    ")"
   ]
  },
  {
   "cell_type": "code",
   "execution_count": 51,
   "metadata": {},
   "outputs": [],
   "source": [
    "def load_memory(input):\n",
    "    return memory.load_memory_variables({})[\"history\"]"
   ]
  },
  {
   "cell_type": "code",
   "execution_count": 52,
   "metadata": {},
   "outputs": [],
   "source": [
    "chain = RunnablePassthrough.assign(history=load_memory) | prompt | model\n",
    "\n",
    "def invoke_chain(question):\n",
    "    result = chain.invoke({\"question\": question})\n",
    "    memory.save_context(\n",
    "        {\"input\": question},\n",
    "        {\"output\": result.content},\n",
    "    )\n",
    "    print(result)"
   ]
  },
  {
   "cell_type": "code",
   "execution_count": 53,
   "metadata": {},
   "outputs": [
    {
     "name": "stdout",
     "output_type": "stream",
     "text": [
      "content='안녕 jiking, 뭐가 귀찮은 일이 있니?'\n"
     ]
    }
   ],
   "source": [
    "invoke_chain(\"안녕~ 나의 이름은 jiking이야\")"
   ]
  },
  {
   "cell_type": "code",
   "execution_count": 54,
   "metadata": {},
   "outputs": [
    {
     "name": "stdout",
     "output_type": "stream",
     "text": [
      "content='그래, 그렇게 멋진 곳에 있으면서 왜 날 귀찮게 하려고 하는 거야? 뭐가 필요한 거니?'\n"
     ]
    }
   ],
   "source": [
    "invoke_chain(\"나는 지금 강남에 있는 bespinglobal에 있어\")"
   ]
  }
 ],
 "metadata": {
  "kernelspec": {
   "display_name": "llm",
   "language": "python",
   "name": "llm"
  },
  "language_info": {
   "codemirror_mode": {
    "name": "ipython",
    "version": 3
   },
   "file_extension": ".py",
   "mimetype": "text/x-python",
   "name": "python",
   "nbconvert_exporter": "python",
   "pygments_lexer": "ipython3",
   "version": "3.11.5"
  }
 },
 "nbformat": 4,
 "nbformat_minor": 2
}
