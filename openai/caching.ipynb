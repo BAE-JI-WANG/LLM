{
 "cells": [
  {
   "cell_type": "code",
   "execution_count": 1,
   "metadata": {},
   "outputs": [],
   "source": [
    "from langchain.chat_models import ChatOpenAI\n",
    "from langchain.callbacks import StreamingStdOutCallbackHandler"
   ]
  },
  {
   "cell_type": "code",
   "execution_count": 2,
   "metadata": {},
   "outputs": [],
   "source": [
    "from dotenv import dotenv_values\n",
    "import os\n",
    "\n",
    "env_vars = dotenv_values('../.env')\n",
    "\n",
    "os.environ['OPENAI_API_KEY'] = env_vars.get('OPENAI_API_KEY')"
   ]
  },
  {
   "cell_type": "code",
   "execution_count": 6,
   "metadata": {},
   "outputs": [],
   "source": [
    "from langchain.globals import set_llm_cache, set_debug\n",
    "from langchain.cache import InMemoryCache\n",
    "\n",
    "set_llm_cache(InMemoryCache())\n",
    "set_debug(True)\n",
    "\n",
    "model = ChatOpenAI(\n",
    "    temperature=0.1,\n",
    "    #streaming=True,\n",
    "   #callbacks=[StreamingStdOutCallbackHandler()]\n",
    ")"
   ]
  },
  {
   "cell_type": "code",
   "execution_count": 7,
   "metadata": {},
   "outputs": [
    {
     "name": "stdout",
     "output_type": "stream",
     "text": [
      "\u001b[32;1m\u001b[1;3m[llm/start]\u001b[0m \u001b[1m[1:llm:ChatOpenAI] Entering LLM run with input:\n",
      "\u001b[0m{\n",
      "  \"prompts\": [\n",
      "    \"Human: 카레는 어떻게 만들어?\"\n",
      "  ]\n",
      "}\n",
      "\u001b[36;1m\u001b[1;3m[llm/end]\u001b[0m \u001b[1m[1:llm:ChatOpenAI] [30.65s] Exiting LLM run with output:\n",
      "\u001b[0m{\n",
      "  \"generations\": [\n",
      "    [\n",
      "      {\n",
      "        \"text\": \"카레는 다양한 방법으로 만들 수 있지만, 일반적으로 다음과 같은 과정을 따릅니다.\\n\\n1. 재료 준비: 카레 가루, 양파, 당근, 감자, 고기(옵션), 식용유, 소금, 후추 등을 준비합니다.\\n\\n2. 채소와 고기 손질: 양파는 굵게 채썰고, 당근과 감자는 1~2cm 크기로 잘라줍니다. 만약 고기를 사용한다면 고기도 적당한 크기로 잘라줍니다.\\n\\n3. 카레 소스 만들기: 카레 가루를 뜨거운 물에 넣고 잘 섞어줍니다. 이때 물의 양은 카레 가루에 따라 다를 수 있으니 패키지에 적힌 지침을 따릅니다.\\n\\n4. 볶기: 팬에 식용유를 두르고 양파를 볶다가 고기를 넣어 함께 볶아줍니다. 고기가 익으면 당근과 감자를 넣고 볶아줍니다.\\n\\n5. 끓이기: 볶은 채소와 고기에 카레 소스를 넣고 잘 섞어줍니다. 그리고 물을 조금씩 넣어가며 끓여줍니다. 물의 양은 개인의 취향에 따라 조절할 수 있습니다.\\n\\n6. 조리 마무리: 끓이다가 채소와 고기가 익으면 소금과 후추로 간을 맞춰줍니다. 간이 맞으면 불을 끄고, 밥이나 나무젓가락으로 맛을 확인해보고 필요하다면 추가적인 조리나 간을 해줍니다.\\n\\n7. 서빙: 그릇에 밥을 담고 위에 카레를 올려줍니다. 카레 위에는 파나 고수를 장식적으로 올려주면 완성입니다.\\n\\n이렇게 만든 카레는 고기를 사용하지 않고 채소만 사용하여 채소 카레로도 즐길 수 있습니다. 또한, 카레 가루 대신 카레 루를 사용하여 직접 소스를 만들어도 맛있게 즐길 수 있습니다.\",\n",
      "        \"generation_info\": {\n",
      "          \"finish_reason\": \"stop\"\n",
      "        },\n",
      "        \"type\": \"ChatGeneration\",\n",
      "        \"message\": {\n",
      "          \"lc\": 1,\n",
      "          \"type\": \"constructor\",\n",
      "          \"id\": [\n",
      "            \"langchain\",\n",
      "            \"schema\",\n",
      "            \"messages\",\n",
      "            \"AIMessage\"\n",
      "          ],\n",
      "          \"kwargs\": {\n",
      "            \"content\": \"카레는 다양한 방법으로 만들 수 있지만, 일반적으로 다음과 같은 과정을 따릅니다.\\n\\n1. 재료 준비: 카레 가루, 양파, 당근, 감자, 고기(옵션), 식용유, 소금, 후추 등을 준비합니다.\\n\\n2. 채소와 고기 손질: 양파는 굵게 채썰고, 당근과 감자는 1~2cm 크기로 잘라줍니다. 만약 고기를 사용한다면 고기도 적당한 크기로 잘라줍니다.\\n\\n3. 카레 소스 만들기: 카레 가루를 뜨거운 물에 넣고 잘 섞어줍니다. 이때 물의 양은 카레 가루에 따라 다를 수 있으니 패키지에 적힌 지침을 따릅니다.\\n\\n4. 볶기: 팬에 식용유를 두르고 양파를 볶다가 고기를 넣어 함께 볶아줍니다. 고기가 익으면 당근과 감자를 넣고 볶아줍니다.\\n\\n5. 끓이기: 볶은 채소와 고기에 카레 소스를 넣고 잘 섞어줍니다. 그리고 물을 조금씩 넣어가며 끓여줍니다. 물의 양은 개인의 취향에 따라 조절할 수 있습니다.\\n\\n6. 조리 마무리: 끓이다가 채소와 고기가 익으면 소금과 후추로 간을 맞춰줍니다. 간이 맞으면 불을 끄고, 밥이나 나무젓가락으로 맛을 확인해보고 필요하다면 추가적인 조리나 간을 해줍니다.\\n\\n7. 서빙: 그릇에 밥을 담고 위에 카레를 올려줍니다. 카레 위에는 파나 고수를 장식적으로 올려주면 완성입니다.\\n\\n이렇게 만든 카레는 고기를 사용하지 않고 채소만 사용하여 채소 카레로도 즐길 수 있습니다. 또한, 카레 가루 대신 카레 루를 사용하여 직접 소스를 만들어도 맛있게 즐길 수 있습니다.\",\n",
      "            \"additional_kwargs\": {}\n",
      "          }\n",
      "        }\n",
      "      }\n",
      "    ]\n",
      "  ],\n",
      "  \"llm_output\": {\n",
      "    \"token_usage\": {\n",
      "      \"prompt_tokens\": 22,\n",
      "      \"completion_tokens\": 699,\n",
      "      \"total_tokens\": 721\n",
      "    },\n",
      "    \"model_name\": \"gpt-3.5-turbo\",\n",
      "    \"system_fingerprint\": null\n",
      "  },\n",
      "  \"run\": null\n",
      "}\n"
     ]
    },
    {
     "data": {
      "text/plain": [
       "'카레는 다양한 방법으로 만들 수 있지만, 일반적으로 다음과 같은 과정을 따릅니다.\\n\\n1. 재료 준비: 카레 가루, 양파, 당근, 감자, 고기(옵션), 식용유, 소금, 후추 등을 준비합니다.\\n\\n2. 채소와 고기 손질: 양파는 굵게 채썰고, 당근과 감자는 1~2cm 크기로 잘라줍니다. 만약 고기를 사용한다면 고기도 적당한 크기로 잘라줍니다.\\n\\n3. 카레 소스 만들기: 카레 가루를 뜨거운 물에 넣고 잘 섞어줍니다. 이때 물의 양은 카레 가루에 따라 다를 수 있으니 패키지에 적힌 지침을 따릅니다.\\n\\n4. 볶기: 팬에 식용유를 두르고 양파를 볶다가 고기를 넣어 함께 볶아줍니다. 고기가 익으면 당근과 감자를 넣고 볶아줍니다.\\n\\n5. 끓이기: 볶은 채소와 고기에 카레 소스를 넣고 잘 섞어줍니다. 그리고 물을 조금씩 넣어가며 끓여줍니다. 물의 양은 개인의 취향에 따라 조절할 수 있습니다.\\n\\n6. 조리 마무리: 끓이다가 채소와 고기가 익으면 소금과 후추로 간을 맞춰줍니다. 간이 맞으면 불을 끄고, 밥이나 나무젓가락으로 맛을 확인해보고 필요하다면 추가적인 조리나 간을 해줍니다.\\n\\n7. 서빙: 그릇에 밥을 담고 위에 카레를 올려줍니다. 카레 위에는 파나 고수를 장식적으로 올려주면 완성입니다.\\n\\n이렇게 만든 카레는 고기를 사용하지 않고 채소만 사용하여 채소 카레로도 즐길 수 있습니다. 또한, 카레 가루 대신 카레 루를 사용하여 직접 소스를 만들어도 맛있게 즐길 수 있습니다.'"
      ]
     },
     "execution_count": 7,
     "metadata": {},
     "output_type": "execute_result"
    }
   ],
   "source": [
    "model.predict(\"카레는 어떻게 만들어?\")"
   ]
  },
  {
   "cell_type": "code",
   "execution_count": 8,
   "metadata": {},
   "outputs": [
    {
     "name": "stdout",
     "output_type": "stream",
     "text": [
      "\u001b[32;1m\u001b[1;3m[llm/start]\u001b[0m \u001b[1m[1:llm:ChatOpenAI] Entering LLM run with input:\n",
      "\u001b[0m{\n",
      "  \"prompts\": [\n",
      "    \"Human: 카레는 어떻게 만들어?\"\n",
      "  ]\n",
      "}\n",
      "\u001b[36;1m\u001b[1;3m[llm/end]\u001b[0m \u001b[1m[1:llm:ChatOpenAI] [0ms] Exiting LLM run with output:\n",
      "\u001b[0m{\n",
      "  \"generations\": [\n",
      "    [\n",
      "      {\n",
      "        \"text\": \"카레는 다양한 방법으로 만들 수 있지만, 일반적으로 다음과 같은 과정을 따릅니다.\\n\\n1. 재료 준비: 카레 가루, 양파, 당근, 감자, 고기(옵션), 식용유, 소금, 후추 등을 준비합니다.\\n\\n2. 채소와 고기 손질: 양파는 굵게 채썰고, 당근과 감자는 1~2cm 크기로 잘라줍니다. 만약 고기를 사용한다면 고기도 적당한 크기로 잘라줍니다.\\n\\n3. 카레 소스 만들기: 카레 가루를 뜨거운 물에 넣고 잘 섞어줍니다. 이때 물의 양은 카레 가루에 따라 다를 수 있으니 패키지에 적힌 지침을 따릅니다.\\n\\n4. 볶기: 팬에 식용유를 두르고 양파를 볶다가 고기를 넣어 함께 볶아줍니다. 고기가 익으면 당근과 감자를 넣고 볶아줍니다.\\n\\n5. 끓이기: 볶은 채소와 고기에 카레 소스를 넣고 잘 섞어줍니다. 그리고 물을 조금씩 넣어가며 끓여줍니다. 물의 양은 개인의 취향에 따라 조절할 수 있습니다.\\n\\n6. 조리 마무리: 끓이다가 채소와 고기가 익으면 소금과 후추로 간을 맞춰줍니다. 간이 맞으면 불을 끄고, 밥이나 나무젓가락으로 맛을 확인해보고 필요하다면 추가적인 조리나 간을 해줍니다.\\n\\n7. 서빙: 그릇에 밥을 담고 위에 카레를 올려줍니다. 카레 위에는 파나 고수를 장식적으로 올려주면 완성입니다.\\n\\n이렇게 만든 카레는 고기를 사용하지 않고 채소만 사용하여 채소 카레로도 즐길 수 있습니다. 또한, 카레 가루 대신 카레 루를 사용하여 직접 소스를 만들어도 맛있게 즐길 수 있습니다.\",\n",
      "        \"generation_info\": {\n",
      "          \"finish_reason\": \"stop\"\n",
      "        },\n",
      "        \"type\": \"ChatGeneration\",\n",
      "        \"message\": {\n",
      "          \"lc\": 1,\n",
      "          \"type\": \"constructor\",\n",
      "          \"id\": [\n",
      "            \"langchain\",\n",
      "            \"schema\",\n",
      "            \"messages\",\n",
      "            \"AIMessage\"\n",
      "          ],\n",
      "          \"kwargs\": {\n",
      "            \"content\": \"카레는 다양한 방법으로 만들 수 있지만, 일반적으로 다음과 같은 과정을 따릅니다.\\n\\n1. 재료 준비: 카레 가루, 양파, 당근, 감자, 고기(옵션), 식용유, 소금, 후추 등을 준비합니다.\\n\\n2. 채소와 고기 손질: 양파는 굵게 채썰고, 당근과 감자는 1~2cm 크기로 잘라줍니다. 만약 고기를 사용한다면 고기도 적당한 크기로 잘라줍니다.\\n\\n3. 카레 소스 만들기: 카레 가루를 뜨거운 물에 넣고 잘 섞어줍니다. 이때 물의 양은 카레 가루에 따라 다를 수 있으니 패키지에 적힌 지침을 따릅니다.\\n\\n4. 볶기: 팬에 식용유를 두르고 양파를 볶다가 고기를 넣어 함께 볶아줍니다. 고기가 익으면 당근과 감자를 넣고 볶아줍니다.\\n\\n5. 끓이기: 볶은 채소와 고기에 카레 소스를 넣고 잘 섞어줍니다. 그리고 물을 조금씩 넣어가며 끓여줍니다. 물의 양은 개인의 취향에 따라 조절할 수 있습니다.\\n\\n6. 조리 마무리: 끓이다가 채소와 고기가 익으면 소금과 후추로 간을 맞춰줍니다. 간이 맞으면 불을 끄고, 밥이나 나무젓가락으로 맛을 확인해보고 필요하다면 추가적인 조리나 간을 해줍니다.\\n\\n7. 서빙: 그릇에 밥을 담고 위에 카레를 올려줍니다. 카레 위에는 파나 고수를 장식적으로 올려주면 완성입니다.\\n\\n이렇게 만든 카레는 고기를 사용하지 않고 채소만 사용하여 채소 카레로도 즐길 수 있습니다. 또한, 카레 가루 대신 카레 루를 사용하여 직접 소스를 만들어도 맛있게 즐길 수 있습니다.\",\n",
      "            \"additional_kwargs\": {}\n",
      "          }\n",
      "        }\n",
      "      }\n",
      "    ]\n",
      "  ],\n",
      "  \"llm_output\": null,\n",
      "  \"run\": null\n",
      "}\n"
     ]
    },
    {
     "data": {
      "text/plain": [
       "'카레는 다양한 방법으로 만들 수 있지만, 일반적으로 다음과 같은 과정을 따릅니다.\\n\\n1. 재료 준비: 카레 가루, 양파, 당근, 감자, 고기(옵션), 식용유, 소금, 후추 등을 준비합니다.\\n\\n2. 채소와 고기 손질: 양파는 굵게 채썰고, 당근과 감자는 1~2cm 크기로 잘라줍니다. 만약 고기를 사용한다면 고기도 적당한 크기로 잘라줍니다.\\n\\n3. 카레 소스 만들기: 카레 가루를 뜨거운 물에 넣고 잘 섞어줍니다. 이때 물의 양은 카레 가루에 따라 다를 수 있으니 패키지에 적힌 지침을 따릅니다.\\n\\n4. 볶기: 팬에 식용유를 두르고 양파를 볶다가 고기를 넣어 함께 볶아줍니다. 고기가 익으면 당근과 감자를 넣고 볶아줍니다.\\n\\n5. 끓이기: 볶은 채소와 고기에 카레 소스를 넣고 잘 섞어줍니다. 그리고 물을 조금씩 넣어가며 끓여줍니다. 물의 양은 개인의 취향에 따라 조절할 수 있습니다.\\n\\n6. 조리 마무리: 끓이다가 채소와 고기가 익으면 소금과 후추로 간을 맞춰줍니다. 간이 맞으면 불을 끄고, 밥이나 나무젓가락으로 맛을 확인해보고 필요하다면 추가적인 조리나 간을 해줍니다.\\n\\n7. 서빙: 그릇에 밥을 담고 위에 카레를 올려줍니다. 카레 위에는 파나 고수를 장식적으로 올려주면 완성입니다.\\n\\n이렇게 만든 카레는 고기를 사용하지 않고 채소만 사용하여 채소 카레로도 즐길 수 있습니다. 또한, 카레 가루 대신 카레 루를 사용하여 직접 소스를 만들어도 맛있게 즐길 수 있습니다.'"
      ]
     },
     "execution_count": 8,
     "metadata": {},
     "output_type": "execute_result"
    }
   ],
   "source": [
    "model.predict(\"카레는 어떻게 만들어?\")"
   ]
  },
  {
   "cell_type": "markdown",
   "metadata": {},
   "source": [
    "#### cost"
   ]
  },
  {
   "cell_type": "code",
   "execution_count": 9,
   "metadata": {},
   "outputs": [],
   "source": [
    "from langchain.callbacks import get_openai_callback"
   ]
  },
  {
   "cell_type": "code",
   "execution_count": 12,
   "metadata": {},
   "outputs": [
    {
     "name": "stdout",
     "output_type": "stream",
     "text": [
      "\u001b[32;1m\u001b[1;3m[llm/start]\u001b[0m \u001b[1m[1:llm:ChatOpenAI] Entering LLM run with input:\n",
      "\u001b[0m{\n",
      "  \"prompts\": [\n",
      "    \"Human: 파스타의 레시피는 뭐야?\"\n",
      "  ]\n",
      "}\n",
      "\u001b[36;1m\u001b[1;3m[llm/end]\u001b[0m \u001b[1m[1:llm:ChatOpenAI] [17.88s] Exiting LLM run with output:\n",
      "\u001b[0m{\n",
      "  \"generations\": [\n",
      "    [\n",
      "      {\n",
      "        \"text\": \"파스타의 레시피는 다양하지만, 대표적인 파스타 레시피 중 하나는 스파게티 알리오 올리오입니다. 이 레시피는 다음과 같습니다:\\n\\n재료:\\n- 스파게티 면 200g\\n- 올리브 오일 4큰술\\n- 마늘 4개 (다진 것)\\n- 건고추 혹은 청양고추 (마음에 따라 조절)\\n- 소금 약간\\n- 파슬리 (장식용)\\n\\n1. 먼저 큰 냄비에 물을 끓여 스파게티 면을 삶습니다. 면이 삶아지는 동안 다음 단계를 준비합니다.\\n\\n2. 팬에 올리브 오일을 데워 마늘과 건고추를 넣고 중간 불에서 볶습니다. 마늘이 노릇해질 때까지 약 2분 정도 볶아줍니다.\\n\\n3. 삶은 스파게티 면을 체에 밭쳐 물기를 제거한 후 팬에 넣습니다. 중간 불에서 면이 오일과 잘 섞이도록 볶아줍니다. 소금을 약간 뿌려 간을 해줍니다.\\n\\n4. 파슬리를 장식용으로 사용하여 완성합니다.\\n\\n이렇게 만든 스파게티 알리오 올리오는 간단하지만 풍부한 향과 맛을 가지고 있습니다. 다양한 파스타 레시피를 시도해보면서 자신만의 맛을 찾아보세요!\",\n",
      "        \"generation_info\": {\n",
      "          \"finish_reason\": \"stop\"\n",
      "        },\n",
      "        \"type\": \"ChatGeneration\",\n",
      "        \"message\": {\n",
      "          \"lc\": 1,\n",
      "          \"type\": \"constructor\",\n",
      "          \"id\": [\n",
      "            \"langchain\",\n",
      "            \"schema\",\n",
      "            \"messages\",\n",
      "            \"AIMessage\"\n",
      "          ],\n",
      "          \"kwargs\": {\n",
      "            \"content\": \"파스타의 레시피는 다양하지만, 대표적인 파스타 레시피 중 하나는 스파게티 알리오 올리오입니다. 이 레시피는 다음과 같습니다:\\n\\n재료:\\n- 스파게티 면 200g\\n- 올리브 오일 4큰술\\n- 마늘 4개 (다진 것)\\n- 건고추 혹은 청양고추 (마음에 따라 조절)\\n- 소금 약간\\n- 파슬리 (장식용)\\n\\n1. 먼저 큰 냄비에 물을 끓여 스파게티 면을 삶습니다. 면이 삶아지는 동안 다음 단계를 준비합니다.\\n\\n2. 팬에 올리브 오일을 데워 마늘과 건고추를 넣고 중간 불에서 볶습니다. 마늘이 노릇해질 때까지 약 2분 정도 볶아줍니다.\\n\\n3. 삶은 스파게티 면을 체에 밭쳐 물기를 제거한 후 팬에 넣습니다. 중간 불에서 면이 오일과 잘 섞이도록 볶아줍니다. 소금을 약간 뿌려 간을 해줍니다.\\n\\n4. 파슬리를 장식용으로 사용하여 완성합니다.\\n\\n이렇게 만든 스파게티 알리오 올리오는 간단하지만 풍부한 향과 맛을 가지고 있습니다. 다양한 파스타 레시피를 시도해보면서 자신만의 맛을 찾아보세요!\",\n",
      "            \"additional_kwargs\": {}\n",
      "          }\n",
      "        }\n",
      "      }\n",
      "    ]\n",
      "  ],\n",
      "  \"llm_output\": {\n",
      "    \"token_usage\": {\n",
      "      \"prompt_tokens\": 25,\n",
      "      \"completion_tokens\": 485,\n",
      "      \"total_tokens\": 510\n",
      "    },\n",
      "    \"model_name\": \"gpt-3.5-turbo\",\n",
      "    \"system_fingerprint\": null\n",
      "  },\n",
      "  \"run\": null\n",
      "}\n",
      "Tokens Used: 510\n",
      "\tPrompt Tokens: 25\n",
      "\tCompletion Tokens: 485\n",
      "Successful Requests: 1\n",
      "Total Cost (USD): $0.0010075\n"
     ]
    }
   ],
   "source": [
    "with get_openai_callback() as usage:\n",
    "    model.predict(\"파스타의 레시피는 뭐야?\")\n",
    "    print(usage)"
   ]
  },
  {
   "cell_type": "code",
   "execution_count": null,
   "metadata": {},
   "outputs": [],
   "source": []
  }
 ],
 "metadata": {
  "kernelspec": {
   "display_name": "llm",
   "language": "python",
   "name": "llm"
  },
  "language_info": {
   "codemirror_mode": {
    "name": "ipython",
    "version": 3
   },
   "file_extension": ".py",
   "mimetype": "text/x-python",
   "name": "python",
   "nbconvert_exporter": "python",
   "pygments_lexer": "ipython3",
   "version": "3.11.5"
  }
 },
 "nbformat": 4,
 "nbformat_minor": 2
}
