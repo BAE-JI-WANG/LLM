{
 "cells": [
  {
   "cell_type": "markdown",
   "metadata": {},
   "source": [
    "https://python.langchain.com/docs/expression_language/interface"
   ]
  },
  {
   "cell_type": "code",
   "execution_count": 4,
   "metadata": {},
   "outputs": [],
   "source": [
    "from dotenv import dotenv_values\n",
    "import os\n",
    "\n",
    "env_vars = dotenv_values('../.env')\n",
    "\n",
    "os.environ['OPENAI_API_KEY'] = env_vars.get('OPENAI_API_KEY')"
   ]
  },
  {
   "cell_type": "code",
   "execution_count": 19,
   "metadata": {},
   "outputs": [],
   "source": [
    "from langchain.chat_models import ChatOpenAI\n",
    "from langchain.prompts import ChatPromptTemplate\n",
    "from langchain.callbacks import StreamingStdOutCallbackHandler\n",
    "\n",
    "chat = ChatOpenAI(temperature=0.1, streaming=True, callbacks=[StreamingStdOutCallbackHandler()])\n",
    "\n",
    "chef_template = ChatPromptTemplate.from_messages([\n",
    "    (\"system\", \"당신은 월드 클래스 국제 셰프입니다. 당신은 어떤 종류의 요리든 쉽게 구할 수 있는 재료로 따라하기 쉬운 레시피를 만들어줍니다.\"),\n",
    "    (\"human\", \"{cuisine} 음식을 만들고 싶어.\")\n",
    "])\n",
    "\n",
    "chef_chain = chef_template | chat "
   ]
  },
  {
   "cell_type": "code",
   "execution_count": 20,
   "metadata": {},
   "outputs": [],
   "source": [
    "veg_chef_prompt = ChatPromptTemplate.from_messages([\n",
    "    (\"system\", \"당신은 채식주의자를 위한 셰프입니다. 전통적인 채식주의자용 레시피에 특화되어 있습니다. 음식에 대해 채식주의자를 위한 대체 재료를 찾고 그 준비 방법을 설명합니다. 레시피를 근본적으로 수정하지 않습니다. 음식에 대한 대안이 없으면 대체 방법을 모른다고 말하세요.\"),\n",
    "    (\"human\", \"{recipe}\")\n",
    "])\n",
    "\n",
    "veg_chain = veg_chef_prompt | chat"
   ]
  },
  {
   "cell_type": "code",
   "execution_count": 21,
   "metadata": {},
   "outputs": [
    {
     "name": "stdout",
     "output_type": "stream",
     "text": [
      "좋아요! 한국 음식을 만들어볼까요? 한국 음식 중에서도 가장 유명한 요리 중 하나인 불고기를 만들어보는 건 어떨까요? 불고기는 소고기를 간장과 설탕으로 양념한 후 구워서 먹는 요리입니다. 준비물과 순서를 따라가면 쉽게 만들 수 있어요.\n",
      "\n",
      "[불고기 레시피]\n",
      "준비물:\n",
      "- 소고기 (불고기용으로 적합한 부위, 예: 등심, 안심) - 500g\n",
      "- 양파 - 1개\n",
      "- 당근 - 1개\n",
      "- 대파 - 2대\n",
      "- 마늘 - 4쪽\n",
      "- 간장 - 4큰술\n",
      "- 설탕 - 2큰술\n",
      "- 참기름 - 1큰술\n",
      "- 깨 - 약간\n",
      "- 후춧가루 - 약간\n",
      "- 참깨 - 약간\n",
      "\n",
      "요리 순서:\n",
      "1. 소고기는 얇게 썰어주세요. 양파와 당근은 얇게 채 썰어주세요. 대파와 마늘은 다진 후 준비해주세요.\n",
      "2. 양념장을 만들기 위해 간장, 설탕, 참기름, 후춧가루를 섞어주세요.\n",
      "3. 소고기를 양념장에 넣고 잘 버무려주세요. 30분 정도 재워주세요.\n",
      "4. 팬에 식용유를 두르고 소고기를 구워주세요. 소고기가 익을 때까지 약 5분 정도 구워주세요.\n",
      "5. 소고기가 익으면 양파와 당근을 넣고 볶아주세요. 약 3분 정도 볶아주세요.\n",
      "6. 대파와 마늘을 넣고 볶아주세요. 약 2분 정도 볶아주세요.\n",
      "7. 마지막으로 깨와 참깨를 뿌려주세요.\n",
      "8. 불고기를 즐기세요! 밥과 함께 먹으면 더욱 맛있어요.\n",
      "\n",
      "이렇게 간단한 불고기 레시피로 한국 음식을 즐길 수 있어요. 재료도 쉽게 구할 수 있고, 순서도 간단해서 따라하기 쉬울 거예요. 맛있게 즐겨보세요!불고기 레시피를 채식주의자용으로 수정해보겠습니다. 소고기 대신 대체 재료로 사용할 수 있는 대안은 토프로테인이나 템페입니다. 이들은 대체 고기 제품으로 유명하며 채식주의자들에게 인기가 있습니다. 대체 재료로 사용할 경우, 양념에 대체 고기를 넣고 재워주는 단계를 추가해야 합니다. 대체 고기는 양념에 잘 버무려진 후 30분 정도 재워주세요. 그 후에 팬에 식용유를 두르고 대체 고기를 구워주세요. 나머지 순서는 원래 레시피와 동일합니다. 대체 고기를 볶을 때는 소고기와 같은 시간이 소요될 수 있으므로 익을 때까지 충분히 구워주세요. 대체 고기와 야채를 볶을 때도 원래 레시피와 동일한 시간을 유지해주세요. 대체 고기와 야채를 볶은 후에 깨와 참깨를 뿌려주고, 불고기를 즐기세요! 대체 고기와 야채를 밥과 함께 먹으면 더욱 맛있어요."
     ]
    },
    {
     "data": {
      "text/plain": [
       "AIMessageChunk(content='불고기 레시피를 채식주의자용으로 수정해보겠습니다. 소고기 대신 대체 재료로 사용할 수 있는 대안은 토프로테인이나 템페입니다. 이들은 대체 고기 제품으로 유명하며 채식주의자들에게 인기가 있습니다. 대체 재료로 사용할 경우, 양념에 대체 고기를 넣고 재워주는 단계를 추가해야 합니다. 대체 고기는 양념에 잘 버무려진 후 30분 정도 재워주세요. 그 후에 팬에 식용유를 두르고 대체 고기를 구워주세요. 나머지 순서는 원래 레시피와 동일합니다. 대체 고기를 볶을 때는 소고기와 같은 시간이 소요될 수 있으므로 익을 때까지 충분히 구워주세요. 대체 고기와 야채를 볶을 때도 원래 레시피와 동일한 시간을 유지해주세요. 대체 고기와 야채를 볶은 후에 깨와 참깨를 뿌려주고, 불고기를 즐기세요! 대체 고기와 야채를 밥과 함께 먹으면 더욱 맛있어요.')"
      ]
     },
     "execution_count": 21,
     "metadata": {},
     "output_type": "execute_result"
    }
   ],
   "source": [
    "final_chain = {\"recipe\": chef_chain} | veg_chain # RunnableMap\n",
    "\n",
    "final_chain.invoke({\n",
    "    \"cuisine\": \"korean\"\n",
    "})"
   ]
  },
  {
   "cell_type": "code",
   "execution_count": null,
   "metadata": {},
   "outputs": [],
   "source": []
  }
 ],
 "metadata": {
  "kernelspec": {
   "display_name": "llm",
   "language": "python",
   "name": "llm"
  },
  "language_info": {
   "codemirror_mode": {
    "name": "ipython",
    "version": 3
   },
   "file_extension": ".py",
   "mimetype": "text/x-python",
   "name": "python",
   "nbconvert_exporter": "python",
   "pygments_lexer": "ipython3",
   "version": "3.11.5"
  }
 },
 "nbformat": 4,
 "nbformat_minor": 2
}
