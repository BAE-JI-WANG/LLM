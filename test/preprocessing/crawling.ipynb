{
 "cells": [
  {
   "cell_type": "code",
   "execution_count": 8,
   "metadata": {},
   "outputs": [],
   "source": [
    "from bs4 import BeautifulSoup\n",
    "import pandas as pd\n",
    "import requests\n",
    "from tqdm import tqdm"
   ]
  },
  {
   "cell_type": "code",
   "execution_count": 9,
   "metadata": {},
   "outputs": [
    {
     "data": {
      "text/html": [
       "<div>\n",
       "<style scoped>\n",
       "    .dataframe tbody tr th:only-of-type {\n",
       "        vertical-align: middle;\n",
       "    }\n",
       "\n",
       "    .dataframe tbody tr th {\n",
       "        vertical-align: top;\n",
       "    }\n",
       "\n",
       "    .dataframe thead th {\n",
       "        text-align: right;\n",
       "    }\n",
       "</style>\n",
       "<table border=\"1\" class=\"dataframe\">\n",
       "  <thead>\n",
       "    <tr style=\"text-align: right;\">\n",
       "      <th></th>\n",
       "      <th>instruction</th>\n",
       "      <th>main</th>\n",
       "      <th>sub</th>\n",
       "      <th>output</th>\n",
       "    </tr>\n",
       "  </thead>\n",
       "  <tbody>\n",
       "  </tbody>\n",
       "</table>\n",
       "</div>"
      ],
      "text/plain": [
       "Empty DataFrame\n",
       "Columns: [instruction, main, sub, output]\n",
       "Index: []"
      ]
     },
     "execution_count": 9,
     "metadata": {},
     "output_type": "execute_result"
    }
   ],
   "source": [
    "df = pd.DataFrame(columns=['instruction', 'main', 'sub', 'output'])\n",
    "df"
   ]
  },
  {
   "cell_type": "code",
   "execution_count": 10,
   "metadata": {},
   "outputs": [],
   "source": [
    "base_page = \"https://www.easylaw.go.kr\"\n",
    "response = requests.get(base_page + \"/CSP/OnhunqueansLstRetrieve.laf\")"
   ]
  },
  {
   "cell_type": "code",
   "execution_count": 11,
   "metadata": {},
   "outputs": [],
   "source": [
    "cnt = 0"
   ]
  },
  {
   "cell_type": "code",
   "execution_count": 36,
   "metadata": {},
   "outputs": [
    {
     "name": "stderr",
     "output_type": "stream",
     "text": [
      "  0%|          | 0/19 [00:00<?, ?it/s]"
     ]
    },
    {
     "name": "stdout",
     "output_type": "stream",
     "text": [
      "javascript:TSearch('EZPO_01','20','2','QUE6','25','6'); return false;\n",
      "javascript:TSearch('EZPO_01','20','2','QUE1','25','1'); return false;\n"
     ]
    },
    {
     "name": "stderr",
     "output_type": "stream",
     "text": [
      " 16%|█▌        | 3/19 [00:06<00:39,  2.48s/it]"
     ]
    },
    {
     "name": "stdout",
     "output_type": "stream",
     "text": [
      "javascript:TSearch('EZPO_01','20','2','QUE29','84','29'); return false;\n"
     ]
    },
    {
     "name": "stderr",
     "output_type": "stream",
     "text": [
      " 21%|██        | 4/19 [00:10<00:47,  3.16s/it]"
     ]
    },
    {
     "name": "stdout",
     "output_type": "stream",
     "text": [
      "javascript:TSearch('EZPO_01','20','2','QUE169','84','169'); return false;\n"
     ]
    },
    {
     "name": "stderr",
     "output_type": "stream",
     "text": [
      " 53%|█████▎    | 10/19 [00:25<00:20,  2.24s/it]"
     ]
    },
    {
     "name": "stdout",
     "output_type": "stream",
     "text": [
      "javascript:TSearch('EZPO_01','20','2','QUE30','85','30'); return false;\n",
      "javascript:TSearch('EZPO_01','20','2','QUE32','85','32'); return false;\n"
     ]
    },
    {
     "name": "stderr",
     "output_type": "stream",
     "text": [
      " 68%|██████▊   | 13/19 [00:33<00:15,  2.63s/it]"
     ]
    },
    {
     "name": "stdout",
     "output_type": "stream",
     "text": [
      "javascript:TSearch('EZPO_01','20','2','QUE14','82','14'); return false;\n"
     ]
    },
    {
     "name": "stderr",
     "output_type": "stream",
     "text": [
      " 95%|█████████▍| 18/19 [00:46<00:02,  2.60s/it]"
     ]
    },
    {
     "name": "stdout",
     "output_type": "stream",
     "text": [
      "javascript:TSearch('EZPO_01','20','2','QUE33','86','33'); return false;\n"
     ]
    },
    {
     "name": "stderr",
     "output_type": "stream",
     "text": [
      "100%|██████████| 19/19 [00:47<00:00,  2.52s/it]\n"
     ]
    }
   ],
   "source": [
    "pg = \"https://www.easylaw.go.kr\"\n",
    "r = requests.get(pg + \"/CSP/OnhunqueansLstRetrieve.laf\")\n",
    "\n",
    "if r.status_code == 200 : \n",
    "\n",
    "    #print(r.text)\n",
    "    soup = BeautifulSoup(r.text, 'html.parser')\n",
    "    #class = onehundred_category_title_list\n",
    "    bb = soup.find(\"div\", \"onehundred_category_title_list\") #main category list\n",
    "    maxpg = 1 #list page 형식에 이용\n",
    "    qna = \"\"   #list page 형식에 이용\n",
    "    seq = -1 #list page 형식에 이용\n",
    "    for lss in tqdm(bb.find_all('a')) : \n",
    "        if lss['class'][0] == 'ast_all' : continue \n",
    "        # print(pg + lss['href'])\n",
    "        cc = requests.get(pg + lss['href'])\n",
    "        \n",
    "        if cc.status_code == 200 : \n",
    "            soup2 = BeautifulSoup(cc.text, 'html.parser')            \n",
    "            cat = soup2.find('ul','qa_tab') \n",
    "            for lbb in cat.find_all('a') :\n",
    "                #subcategory\n",
    "                maxpg = 1                   \n",
    "                subb = requests.get(pg +'/CSP/' +lbb['href'])\n",
    "                soup3 = BeautifulSoup(subb.text, 'html.parser')\n",
    "                try :\n",
    "                    pga = soup3.find('a','nex0')\n",
    "                    # print(pga['onclick'])\n",
    "                    print(pga['onclick'])\n",
    "                    # maxpg = int(pga['onclick'].split(',')[2].replace(\"'\",''))\n",
    "                    # qna = str(pga['onclick'].split(',')[3].replace(\"'\",''))\n",
    "                    # seq = int(pga['onclick'].split(',')[4].replace(\"'\",''))\n",
    "                except Exception as ex :    \n",
    "                    pass\n",
    "                \n",
    "                \n",
    "                #sub에 main page \n",
    "                # for r in range(maxpg) :                     \n",
    "                #     req = requests.get(pg + '/CSP/OnhunqueansLstRetrieve.laf?curPage=' + str(r) + '&search_put=&astSeq=' + str(qna) + '&onhunqnaAstSeq='+str(seq)+'&pageType=20')\n",
    "                #     if req.status_code == 200 :\n",
    "                #         soup3 = BeautifulSoup(req.text, 'html.parser')                        \n",
    "                #         qaa = soup3.find_all('li','qa')  \n",
    "                #         for ccc in qaa :\n",
    "                            # ppppp = ccc.find('a')['href']          \n",
    "                            # reqq = requests.get(pg + '/CSP/' + ppppp)\n",
    "                         \n",
    "                        #     \n",
    "                        #         # soup4 = BeautifulSoup(reqq.text, 'html.parser')\n",
    "                        #         # qaa = soup3.find_all('li','qa')\n",
    "                            # main_ = lss['title']\n",
    "                            # sub_ = lbb['title']\n",
    "                            \n",
    "                        #         instruction = ccc.find('a').text.replace('\\r\\n', '').strip(' ')\n",
    "                        #         output = ccc.find('p').text\n",
    "                        #         df.loc[cnt] = [instruction, main_, sub_, output]\n",
    "                        #         cnt += 1"
   ]
  },
  {
   "cell_type": "code",
   "execution_count": 16,
   "metadata": {},
   "outputs": [
    {
     "data": {
      "text/html": [
       "<div>\n",
       "<style scoped>\n",
       "    .dataframe tbody tr th:only-of-type {\n",
       "        vertical-align: middle;\n",
       "    }\n",
       "\n",
       "    .dataframe tbody tr th {\n",
       "        vertical-align: top;\n",
       "    }\n",
       "\n",
       "    .dataframe thead th {\n",
       "        text-align: right;\n",
       "    }\n",
       "</style>\n",
       "<table border=\"1\" class=\"dataframe\">\n",
       "  <thead>\n",
       "    <tr style=\"text-align: right;\">\n",
       "      <th></th>\n",
       "      <th>instruction</th>\n",
       "      <th>main</th>\n",
       "      <th>sub</th>\n",
       "      <th>output</th>\n",
       "    </tr>\n",
       "  </thead>\n",
       "  <tbody>\n",
       "    <tr>\n",
       "      <th>0</th>\n",
       "      <td>아버지가 빚진 부분에 대해서만 상속포기를 할 수 있나요?</td>\n",
       "      <td>가정법률</td>\n",
       "      <td>상속</td>\n",
       "      <td>불가능합니다. 상속재산은 크게 상속인에게 이익이 되는 적극재산과 빚처럼 상속인에게 ...</td>\n",
       "    </tr>\n",
       "    <tr>\n",
       "      <th>1</th>\n",
       "      <td>아버지가 갑자기 돌아가셔서 부동산, 예금 등에 대한 정확한 재산상황을 알지 못합니다...</td>\n",
       "      <td>가정법률</td>\n",
       "      <td>상속</td>\n",
       "      <td>◇ 부동산 ☞ 아버지의 부동산 관련 사항은 사망 당시 아버지가 살던 주소지의 시청 ...</td>\n",
       "    </tr>\n",
       "    <tr>\n",
       "      <th>2</th>\n",
       "      <td>보험금 지급 청구권은 상속재산에 포함되나요?</td>\n",
       "      <td>가정법률</td>\n",
       "      <td>상속</td>\n",
       "      <td>보험금 지급 청구권은 상속재산이 될 수도 있고, 그렇지 않을 수도 있습니다. 피상속...</td>\n",
       "    </tr>\n",
       "    <tr>\n",
       "      <th>3</th>\n",
       "      <td>부모님께 상속받을 재산보다 빚이 더 많은데, 이 빚도 무조건 상속되나요?</td>\n",
       "      <td>가정법률</td>\n",
       "      <td>상속</td>\n",
       "      <td>상속인은 상속재산을 조사한 뒤 상속으로 인해 물려받을 채산과 채무를 비교해서 상속을...</td>\n",
       "    </tr>\n",
       "    <tr>\n",
       "      <th>4</th>\n",
       "      <td>상속의 한정승인과 상속포기의 차이는 무엇인가요?</td>\n",
       "      <td>가정법률</td>\n",
       "      <td>상속</td>\n",
       "      <td>상속의 한정승인을 하면 상속재산의 한도에서 상속채무 또는 유증을 변제하면 되므로 변...</td>\n",
       "    </tr>\n",
       "    <tr>\n",
       "      <th>...</th>\n",
       "      <td>...</td>\n",
       "      <td>...</td>\n",
       "      <td>...</td>\n",
       "      <td>...</td>\n",
       "    </tr>\n",
       "    <tr>\n",
       "      <th>5275</th>\n",
       "      <td>법원에서 벌금 200만원을 납부하라는 약식명령을 받았습니다. 벌금이 너무 많이 나온...</td>\n",
       "      <td>국가 및 지자체</td>\n",
       "      <td>지방자치와 주민의 권리</td>\n",
       "      <td>해당 법원에 약식명령에 대한 정식재판을 청구할 수 있습니다. ◇ 정식재판 청구 방법...</td>\n",
       "    </tr>\n",
       "    <tr>\n",
       "      <th>5276</th>\n",
       "      <td>제1심에서 유죄판결을 받았습니다. 너무 억울해서 항소를 하고 싶은데, 항소는 어떻게...</td>\n",
       "      <td>국가 및 지자체</td>\n",
       "      <td>지방자치와 주민의 권리</td>\n",
       "      <td>1심 판결을 지방법원 단독판사가 선고한 경우에는 지방법원 본원합의부에 항소할 수 있...</td>\n",
       "    </tr>\n",
       "    <tr>\n",
       "      <th>5277</th>\n",
       "      <td>폭행죄와 상해죄는 어떻게 다른가요?</td>\n",
       "      <td>국가 및 지자체</td>\n",
       "      <td>지방자치와 주민의 권리</td>\n",
       "      <td>폭행은 사람의 신체에 대해 불법적으로 유형력을 행사하는 것을 말하며, 폭행으로 반드...</td>\n",
       "    </tr>\n",
       "    <tr>\n",
       "      <th>5278</th>\n",
       "      <td>조카가 범죄를 저질렀다고 합니다. 아직 미성년자인데 어른과 마찬가지로 형사처벌을 받...</td>\n",
       "      <td>국가 및 지자체</td>\n",
       "      <td>지방자치와 주민의 권리</td>\n",
       "      <td>◇ 만 18세부터 19세까지 ☞ 어른과 마찬가지로 「형법」에 따라 형사처벌(징역, ...</td>\n",
       "    </tr>\n",
       "    <tr>\n",
       "      <th>5279</th>\n",
       "      <td>왜 법에 규정된 형벌과 재판에서 내리는 형벌이 다른가요?</td>\n",
       "      <td>국가 및 지자체</td>\n",
       "      <td>지방자치와 주민의 권리</td>\n",
       "      <td>같은 범죄라도 경합범, 누범은 형벌이 가중될 수 있고, 자수, 작량 감경, 법률상 ...</td>\n",
       "    </tr>\n",
       "  </tbody>\n",
       "</table>\n",
       "<p>5280 rows × 4 columns</p>\n",
       "</div>"
      ],
      "text/plain": [
       "                                            instruction      main  \\\n",
       "0                       아버지가 빚진 부분에 대해서만 상속포기를 할 수 있나요?      가정법률   \n",
       "1     아버지가 갑자기 돌아가셔서 부동산, 예금 등에 대한 정확한 재산상황을 알지 못합니다...      가정법률   \n",
       "2                              보험금 지급 청구권은 상속재산에 포함되나요?      가정법률   \n",
       "3              부모님께 상속받을 재산보다 빚이 더 많은데, 이 빚도 무조건 상속되나요?      가정법률   \n",
       "4                            상속의 한정승인과 상속포기의 차이는 무엇인가요?      가정법률   \n",
       "...                                                 ...       ...   \n",
       "5275  법원에서 벌금 200만원을 납부하라는 약식명령을 받았습니다. 벌금이 너무 많이 나온...  국가 및 지자체   \n",
       "5276  제1심에서 유죄판결을 받았습니다. 너무 억울해서 항소를 하고 싶은데, 항소는 어떻게...  국가 및 지자체   \n",
       "5277                                폭행죄와 상해죄는 어떻게 다른가요?  국가 및 지자체   \n",
       "5278  조카가 범죄를 저질렀다고 합니다. 아직 미성년자인데 어른과 마찬가지로 형사처벌을 받...  국가 및 지자체   \n",
       "5279                    왜 법에 규정된 형벌과 재판에서 내리는 형벌이 다른가요?  국가 및 지자체   \n",
       "\n",
       "               sub                                             output  \n",
       "0               상속  불가능합니다. 상속재산은 크게 상속인에게 이익이 되는 적극재산과 빚처럼 상속인에게 ...  \n",
       "1               상속  ◇ 부동산 ☞ 아버지의 부동산 관련 사항은 사망 당시 아버지가 살던 주소지의 시청 ...  \n",
       "2               상속  보험금 지급 청구권은 상속재산이 될 수도 있고, 그렇지 않을 수도 있습니다. 피상속...  \n",
       "3               상속  상속인은 상속재산을 조사한 뒤 상속으로 인해 물려받을 채산과 채무를 비교해서 상속을...  \n",
       "4               상속  상속의 한정승인을 하면 상속재산의 한도에서 상속채무 또는 유증을 변제하면 되므로 변...  \n",
       "...            ...                                                ...  \n",
       "5275  지방자치와 주민의 권리  해당 법원에 약식명령에 대한 정식재판을 청구할 수 있습니다. ◇ 정식재판 청구 방법...  \n",
       "5276  지방자치와 주민의 권리  1심 판결을 지방법원 단독판사가 선고한 경우에는 지방법원 본원합의부에 항소할 수 있...  \n",
       "5277  지방자치와 주민의 권리  폭행은 사람의 신체에 대해 불법적으로 유형력을 행사하는 것을 말하며, 폭행으로 반드...  \n",
       "5278  지방자치와 주민의 권리  ◇ 만 18세부터 19세까지 ☞ 어른과 마찬가지로 「형법」에 따라 형사처벌(징역, ...  \n",
       "5279  지방자치와 주민의 권리  같은 범죄라도 경합범, 누범은 형벌이 가중될 수 있고, 자수, 작량 감경, 법률상 ...  \n",
       "\n",
       "[5280 rows x 4 columns]"
      ]
     },
     "execution_count": 16,
     "metadata": {},
     "output_type": "execute_result"
    }
   ],
   "source": [
    "df"
   ]
  },
  {
   "cell_type": "code",
   "execution_count": 17,
   "metadata": {},
   "outputs": [
    {
     "data": {
      "text/plain": [
       "array(['후견', '해외유학자', '주택임대차', '지역사랑상품권', '협동조합 설립·운영',\n",
       "       '학원의 설립ㆍ운영 및 과외교습', '출입국 검역', '화장품', '해외여행자', '행정심판',\n",
       "       '화물자동차 운송사업(개인)', '해고근로자', '한부모가족', '예비군 및 민방위', '휴대전화 이용자',\n",
       "       '환경표지인증', '폭행·상해', '지방자치와 주민의 권리'], dtype=object)"
      ]
     },
     "execution_count": 17,
     "metadata": {},
     "output_type": "execute_result"
    }
   ],
   "source": [
    "df['sub'].unique()"
   ]
  },
  {
   "cell_type": "code",
   "execution_count": 8,
   "metadata": {},
   "outputs": [],
   "source": [
    "df.to_csv(\"../data/law-all-data.csv\", index=False)"
   ]
  },
  {
   "cell_type": "markdown",
   "metadata": {},
   "source": [
    "### preprocessing"
   ]
  },
  {
   "cell_type": "code",
   "execution_count": 40,
   "metadata": {},
   "outputs": [
    {
     "data": {
      "text/html": [
       "<div>\n",
       "<style scoped>\n",
       "    .dataframe tbody tr th:only-of-type {\n",
       "        vertical-align: middle;\n",
       "    }\n",
       "\n",
       "    .dataframe tbody tr th {\n",
       "        vertical-align: top;\n",
       "    }\n",
       "\n",
       "    .dataframe thead th {\n",
       "        text-align: right;\n",
       "    }\n",
       "</style>\n",
       "<table border=\"1\" class=\"dataframe\">\n",
       "  <thead>\n",
       "    <tr style=\"text-align: right;\">\n",
       "      <th></th>\n",
       "      <th>instruction</th>\n",
       "      <th>input</th>\n",
       "      <th>output</th>\n",
       "      <th>text</th>\n",
       "    </tr>\n",
       "  </thead>\n",
       "  <tbody>\n",
       "    <tr>\n",
       "      <th>0</th>\n",
       "      <td>동거 중인데 갑자기 헤어지자는 통보를 받았어요. 사실혼인 경우에도 위자료를 받을 수...</td>\n",
       "      <td>가정법률</td>\n",
       "      <td>위자료를 받을 수 있습니다. 사실혼은 부부간 합의 또는 부부 어느 한 쪽의 일방적인...</td>\n",
       "      <td>Below is an instruction that describes a task....</td>\n",
       "    </tr>\n",
       "    <tr>\n",
       "      <th>1</th>\n",
       "      <td>이혼이 취소될 수 있나요?</td>\n",
       "      <td>가정법률</td>\n",
       "      <td>재판상 이혼은 재판절차를 거쳐 이혼판결이 선고된 것이므로 취소될 수 없지만, 협의이...</td>\n",
       "      <td>Below is an instruction that describes a task....</td>\n",
       "    </tr>\n",
       "    <tr>\n",
       "      <th>2</th>\n",
       "      <td>이혼해도 자녀를 만날 수 있나요?</td>\n",
       "      <td>가정법률</td>\n",
       "      <td>이혼 후 자녀를 직접 양육하지 않는 부모 일방과 자녀는 서로 만나거나 연락할 수 있...</td>\n",
       "      <td>Below is an instruction that describes a task....</td>\n",
       "    </tr>\n",
       "    <tr>\n",
       "      <th>3</th>\n",
       "      <td>이혼한 후에 자녀의 성과 본을 저의 성과 본으로 바꿀 수 있나요?</td>\n",
       "      <td>가정법률</td>\n",
       "      <td>이혼 후 자녀의 성과 본을 자신의 성과 본으로 바꿀 수 있습니다. ◇ 법원 허가 자...</td>\n",
       "      <td>Below is an instruction that describes a task....</td>\n",
       "    </tr>\n",
       "    <tr>\n",
       "      <th>4</th>\n",
       "      <td>중학생 딸아이가 학교 숙제로 유언장을 작성했는데, 이 유언장이 법적으로 효력 있는 ...</td>\n",
       "      <td>가정법률</td>\n",
       "      <td>유언은 의사능력이 있는 17세(유언 적령)에 달한 사람이 할 수 있습니다. 따라서 ...</td>\n",
       "      <td>Below is an instruction that describes a task....</td>\n",
       "    </tr>\n",
       "    <tr>\n",
       "      <th>...</th>\n",
       "      <td>...</td>\n",
       "      <td>...</td>\n",
       "      <td>...</td>\n",
       "      <td>...</td>\n",
       "    </tr>\n",
       "    <tr>\n",
       "      <th>2270</th>\n",
       "      <td>시청에 정기적으로 문구류를 납품하는 수의계약에 참여했는데, 수의계약의 계약상대자는 ...</td>\n",
       "      <td>국가 및 지자체</td>\n",
       "      <td>수의계약대상자는 견적제출자의 견적가격과 계약이행능력 등에 따라 결정되며, 원칙적으로...</td>\n",
       "      <td>Below is an instruction that describes a task....</td>\n",
       "    </tr>\n",
       "    <tr>\n",
       "      <th>2271</th>\n",
       "      <td>물품계약을 체결한 후 물가가 급격히 올라서 계약 당시의 금액으로는 수량을 맞추기 어...</td>\n",
       "      <td>국가 및 지자체</td>\n",
       "      <td>아니요. 물품계약을 체결한 날부터 90일 이상 지난 후 입찰일을 기준일로 하여 품목...</td>\n",
       "      <td>Below is an instruction that describes a task....</td>\n",
       "    </tr>\n",
       "    <tr>\n",
       "      <th>2272</th>\n",
       "      <td>계약을 체결한 후에는 계약 완료 전이라도 대금을 미리 받을 수 있다고 하던데, 얼마...</td>\n",
       "      <td>국가 및 지자체</td>\n",
       "      <td>계약을 이행하기 전이라도 일정 요건에 해당하면 계약금액의 100분의 70을 초과하지...</td>\n",
       "      <td>Below is an instruction that describes a task....</td>\n",
       "    </tr>\n",
       "    <tr>\n",
       "      <th>2273</th>\n",
       "      <td>물품을 납품하기 직전에 천재지변 등 불가항력의 사유로 대형화재가 발생하여 해당 물품...</td>\n",
       "      <td>국가 및 지자체</td>\n",
       "      <td>계약상대자의 책임 없이 이행이 지체되는 경우에는 계약기간 연장신청을 할 수 있고, ...</td>\n",
       "      <td>Below is an instruction that describes a task....</td>\n",
       "    </tr>\n",
       "    <tr>\n",
       "      <th>2274</th>\n",
       "      <td>물품계약 입찰의 참가자격이 안된다고 해서 이의신청을 했고 결과를 받았는데, 그 결과...</td>\n",
       "      <td>국가 및 지자체</td>\n",
       "      <td>아니요. 이의신청에 따른 조치에 대하여 이의가 있으면 재심(再審)을 청구할 수 있습...</td>\n",
       "      <td>Below is an instruction that describes a task....</td>\n",
       "    </tr>\n",
       "  </tbody>\n",
       "</table>\n",
       "<p>2275 rows × 4 columns</p>\n",
       "</div>"
      ],
      "text/plain": [
       "                                            instruction     input  \\\n",
       "0     동거 중인데 갑자기 헤어지자는 통보를 받았어요. 사실혼인 경우에도 위자료를 받을 수...      가정법률   \n",
       "1                                        이혼이 취소될 수 있나요?      가정법률   \n",
       "2                                    이혼해도 자녀를 만날 수 있나요?      가정법률   \n",
       "3                  이혼한 후에 자녀의 성과 본을 저의 성과 본으로 바꿀 수 있나요?      가정법률   \n",
       "4     중학생 딸아이가 학교 숙제로 유언장을 작성했는데, 이 유언장이 법적으로 효력 있는 ...      가정법률   \n",
       "...                                                 ...       ...   \n",
       "2270  시청에 정기적으로 문구류를 납품하는 수의계약에 참여했는데, 수의계약의 계약상대자는 ...  국가 및 지자체   \n",
       "2271  물품계약을 체결한 후 물가가 급격히 올라서 계약 당시의 금액으로는 수량을 맞추기 어...  국가 및 지자체   \n",
       "2272  계약을 체결한 후에는 계약 완료 전이라도 대금을 미리 받을 수 있다고 하던데, 얼마...  국가 및 지자체   \n",
       "2273  물품을 납품하기 직전에 천재지변 등 불가항력의 사유로 대형화재가 발생하여 해당 물품...  국가 및 지자체   \n",
       "2274  물품계약 입찰의 참가자격이 안된다고 해서 이의신청을 했고 결과를 받았는데, 그 결과...  국가 및 지자체   \n",
       "\n",
       "                                                 output  \\\n",
       "0     위자료를 받을 수 있습니다. 사실혼은 부부간 합의 또는 부부 어느 한 쪽의 일방적인...   \n",
       "1     재판상 이혼은 재판절차를 거쳐 이혼판결이 선고된 것이므로 취소될 수 없지만, 협의이...   \n",
       "2     이혼 후 자녀를 직접 양육하지 않는 부모 일방과 자녀는 서로 만나거나 연락할 수 있...   \n",
       "3     이혼 후 자녀의 성과 본을 자신의 성과 본으로 바꿀 수 있습니다. ◇ 법원 허가 자...   \n",
       "4     유언은 의사능력이 있는 17세(유언 적령)에 달한 사람이 할 수 있습니다. 따라서 ...   \n",
       "...                                                 ...   \n",
       "2270  수의계약대상자는 견적제출자의 견적가격과 계약이행능력 등에 따라 결정되며, 원칙적으로...   \n",
       "2271  아니요. 물품계약을 체결한 날부터 90일 이상 지난 후 입찰일을 기준일로 하여 품목...   \n",
       "2272  계약을 이행하기 전이라도 일정 요건에 해당하면 계약금액의 100분의 70을 초과하지...   \n",
       "2273  계약상대자의 책임 없이 이행이 지체되는 경우에는 계약기간 연장신청을 할 수 있고, ...   \n",
       "2274  아니요. 이의신청에 따른 조치에 대하여 이의가 있으면 재심(再審)을 청구할 수 있습...   \n",
       "\n",
       "                                                   text  \n",
       "0     Below is an instruction that describes a task....  \n",
       "1     Below is an instruction that describes a task....  \n",
       "2     Below is an instruction that describes a task....  \n",
       "3     Below is an instruction that describes a task....  \n",
       "4     Below is an instruction that describes a task....  \n",
       "...                                                 ...  \n",
       "2270  Below is an instruction that describes a task....  \n",
       "2271  Below is an instruction that describes a task....  \n",
       "2272  Below is an instruction that describes a task....  \n",
       "2273  Below is an instruction that describes a task....  \n",
       "2274  Below is an instruction that describes a task....  \n",
       "\n",
       "[2275 rows x 4 columns]"
      ]
     },
     "execution_count": 40,
     "metadata": {},
     "output_type": "execute_result"
    }
   ],
   "source": [
    "df = pd.read_csv(\"../data/train.csv\")\n",
    "df"
   ]
  },
  {
   "cell_type": "code",
   "execution_count": 50,
   "metadata": {},
   "outputs": [],
   "source": [
    "query_ = df.query('instruction.str.contains(\"이혼\")')\n",
    "query_.to_csv(\"../data/query-data.csv\", index=False)"
   ]
  },
  {
   "cell_type": "code",
   "execution_count": null,
   "metadata": {},
   "outputs": [],
   "source": []
  }
 ],
 "metadata": {
  "kernelspec": {
   "display_name": "llm",
   "language": "python",
   "name": "llm"
  },
  "language_info": {
   "codemirror_mode": {
    "name": "ipython",
    "version": 3
   },
   "file_extension": ".py",
   "mimetype": "text/x-python",
   "name": "python",
   "nbconvert_exporter": "python",
   "pygments_lexer": "ipython3",
   "version": "3.11.5"
  }
 },
 "nbformat": 4,
 "nbformat_minor": 2
}
