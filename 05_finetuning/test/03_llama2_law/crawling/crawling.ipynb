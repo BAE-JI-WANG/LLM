{
 "cells": [
  {
   "cell_type": "code",
   "execution_count": 1,
   "metadata": {},
   "outputs": [],
   "source": [
    "from bs4 import BeautifulSoup\n",
    "import pandas as pd\n",
    "import requests\n",
    "from tqdm import tqdm"
   ]
  },
  {
   "cell_type": "code",
   "execution_count": 2,
   "metadata": {},
   "outputs": [
    {
     "data": {
      "text/html": [
       "<div>\n",
       "<style scoped>\n",
       "    .dataframe tbody tr th:only-of-type {\n",
       "        vertical-align: middle;\n",
       "    }\n",
       "\n",
       "    .dataframe tbody tr th {\n",
       "        vertical-align: top;\n",
       "    }\n",
       "\n",
       "    .dataframe thead th {\n",
       "        text-align: right;\n",
       "    }\n",
       "</style>\n",
       "<table border=\"1\" class=\"dataframe\">\n",
       "  <thead>\n",
       "    <tr style=\"text-align: right;\">\n",
       "      <th></th>\n",
       "      <th>instruction</th>\n",
       "      <th>input</th>\n",
       "      <th>output</th>\n",
       "    </tr>\n",
       "  </thead>\n",
       "  <tbody>\n",
       "  </tbody>\n",
       "</table>\n",
       "</div>"
      ],
      "text/plain": [
       "Empty DataFrame\n",
       "Columns: [instruction, input, output]\n",
       "Index: []"
      ]
     },
     "execution_count": 2,
     "metadata": {},
     "output_type": "execute_result"
    }
   ],
   "source": [
    "df = pd.DataFrame(columns=['instruction', 'input', 'output'])\n",
    "df"
   ]
  },
  {
   "cell_type": "code",
   "execution_count": 3,
   "metadata": {},
   "outputs": [],
   "source": [
    "base_page = \"https://www.easylaw.go.kr\"\n",
    "response = requests.get(base_page + \"/CSP/OnhunqueansLstRetrieve.laf\")"
   ]
  },
  {
   "cell_type": "code",
   "execution_count": 4,
   "metadata": {},
   "outputs": [],
   "source": [
    "cnt = 0"
   ]
  },
  {
   "cell_type": "code",
   "execution_count": 10,
   "metadata": {},
   "outputs": [
    {
     "name": "stderr",
     "output_type": "stream",
     "text": [
      "  0%|          | 0/19 [00:00<?, ?it/s]"
     ]
    },
    {
     "name": "stdout",
     "output_type": "stream",
     "text": [
      "<a class=\"ast_1\" href=\"/CSP/OnhunqueansLstRetrieve.laf?onhunqnaAstSeq=25\" id=\"ast_1\" title=\"가정법률\">가정법률</a>\n"
     ]
    },
    {
     "name": "stderr",
     "output_type": "stream",
     "text": [
      " 11%|█         | 2/19 [00:02<00:24,  1.42s/it]"
     ]
    },
    {
     "name": "stdout",
     "output_type": "stream",
     "text": [
      "<a class=\"ast_2\" href=\"/CSP/OnhunqueansLstRetrieve.laf?onhunqnaAstSeq=89\" id=\"ast_2\" title=\"아동·청소년/교육\">아동·청소년/교육</a>\n"
     ]
    },
    {
     "name": "stderr",
     "output_type": "stream",
     "text": [
      " 16%|█▌        | 3/19 [00:06<00:38,  2.41s/it]"
     ]
    },
    {
     "name": "stdout",
     "output_type": "stream",
     "text": [
      "<a class=\"ast_3\" href=\"/CSP/OnhunqueansLstRetrieve.laf?onhunqnaAstSeq=84\" id=\"ast_3\" title=\"부동산/임대차\">부동산/임대차</a>\n"
     ]
    },
    {
     "name": "stderr",
     "output_type": "stream",
     "text": [
      " 21%|██        | 4/19 [00:13<01:03,  4.20s/it]"
     ]
    },
    {
     "name": "stdout",
     "output_type": "stream",
     "text": [
      "<a class=\"ast_4\" href=\"/CSP/OnhunqueansLstRetrieve.laf?onhunqnaAstSeq=92\" id=\"ast_4\" title=\"금융/보험\">금융/금전</a>\n"
     ]
    },
    {
     "name": "stderr",
     "output_type": "stream",
     "text": [
      " 26%|██▋       | 5/19 [00:16<00:51,  3.70s/it]"
     ]
    },
    {
     "name": "stdout",
     "output_type": "stream",
     "text": [
      "<a class=\"ast_5\" href=\"/CSP/OnhunqueansLstRetrieve.laf?onhunqnaAstSeq=83\" id=\"ast_5\" title=\"사업\">사업</a>\n"
     ]
    },
    {
     "name": "stderr",
     "output_type": "stream",
     "text": [
      " 32%|███▏      | 6/19 [00:18<00:41,  3.20s/it]"
     ]
    },
    {
     "name": "stdout",
     "output_type": "stream",
     "text": [
      "<a class=\"ast_6\" href=\"/CSP/OnhunqueansLstRetrieve.laf?onhunqnaAstSeq=91\" id=\"ast_6\" title=\"창업\">창업</a>\n"
     ]
    },
    {
     "name": "stderr",
     "output_type": "stream",
     "text": [
      " 37%|███▋      | 7/19 [00:23<00:43,  3.64s/it]"
     ]
    },
    {
     "name": "stdout",
     "output_type": "stream",
     "text": [
      "<a class=\"ast_7\" href=\"/CSP/OnhunqueansLstRetrieve.laf?onhunqnaAstSeq=100\" id=\"ast_7\" title=\"무역/출입국\">무역/출입국</a>\n"
     ]
    },
    {
     "name": "stderr",
     "output_type": "stream",
     "text": [
      " 42%|████▏     | 8/19 [00:24<00:31,  2.86s/it]"
     ]
    },
    {
     "name": "stdout",
     "output_type": "stream",
     "text": [
      "<a class=\"ast_8\" href=\"/CSP/OnhunqueansLstRetrieve.laf?onhunqnaAstSeq=88\" id=\"ast_8\" title=\"소비자\">소비자</a>\n"
     ]
    },
    {
     "name": "stderr",
     "output_type": "stream",
     "text": [
      " 47%|████▋     | 9/19 [00:26<00:24,  2.49s/it]"
     ]
    },
    {
     "name": "stdout",
     "output_type": "stream",
     "text": [
      "<a class=\"ast_9\" href=\"/CSP/OnhunqueansLstRetrieve.laf?onhunqnaAstSeq=87\" id=\"ast_9\" title=\"문화/여가생활\">문화/여가생활</a>\n"
     ]
    },
    {
     "name": "stderr",
     "output_type": "stream",
     "text": [
      " 53%|█████▎    | 10/19 [00:27<00:18,  2.09s/it]"
     ]
    },
    {
     "name": "stdout",
     "output_type": "stream",
     "text": [
      "<a class=\"ast_10\" href=\"/CSP/OnhunqueansLstRetrieve.laf?onhunqnaAstSeq=85\" id=\"ast_10\" title=\"민형사/소송\">민형사/소송</a>\n"
     ]
    },
    {
     "name": "stderr",
     "output_type": "stream",
     "text": [
      " 58%|█████▊    | 11/19 [00:29<00:17,  2.21s/it]"
     ]
    },
    {
     "name": "stdout",
     "output_type": "stream",
     "text": [
      "<a class=\"ast_11\" href=\"/CSP/OnhunqueansLstRetrieve.laf?onhunqnaAstSeq=90\" id=\"ast_11\" title=\"교통/운전\">교통/운전</a>\n"
     ]
    },
    {
     "name": "stderr",
     "output_type": "stream",
     "text": [
      " 63%|██████▎   | 12/19 [00:32<00:15,  2.25s/it]"
     ]
    },
    {
     "name": "stdout",
     "output_type": "stream",
     "text": [
      "<a class=\"ast_12\" href=\"/CSP/OnhunqueansLstRetrieve.laf?onhunqnaAstSeq=82\" id=\"ast_12\" title=\"근로/노동\">근로/노동</a>\n"
     ]
    },
    {
     "name": "stderr",
     "output_type": "stream",
     "text": [
      " 68%|██████▊   | 13/19 [00:37<00:18,  3.04s/it]"
     ]
    },
    {
     "name": "stdout",
     "output_type": "stream",
     "text": [
      "<a class=\"ast_13\" href=\"/CSP/OnhunqueansLstRetrieve.laf?onhunqnaAstSeq=97\" id=\"ast_13\" title=\"복지\">복지</a>\n"
     ]
    },
    {
     "name": "stderr",
     "output_type": "stream",
     "text": [
      " 74%|███████▎  | 14/19 [00:42<00:18,  3.77s/it]"
     ]
    },
    {
     "name": "stdout",
     "output_type": "stream",
     "text": [
      "<a class=\"ast_14\" href=\"/CSP/OnhunqueansLstRetrieve.laf?onhunqnaAstSeq=81\" id=\"ast_14\" title=\"국방/보훈\">국방/보훈</a>\n"
     ]
    },
    {
     "name": "stderr",
     "output_type": "stream",
     "text": [
      " 79%|███████▉  | 15/19 [00:43<00:11,  2.90s/it]"
     ]
    },
    {
     "name": "stdout",
     "output_type": "stream",
     "text": [
      "<a class=\"ast_15\" href=\"/CSP/OnhunqueansLstRetrieve.laf?onhunqnaAstSeq=94\" id=\"ast_15\" title=\"정보통신/기술\">정보통신/기술</a>\n"
     ]
    },
    {
     "name": "stderr",
     "output_type": "stream",
     "text": [
      " 84%|████████▍ | 16/19 [00:44<00:07,  2.42s/it]"
     ]
    },
    {
     "name": "stdout",
     "output_type": "stream",
     "text": [
      "<a class=\"ast_16\" href=\"/CSP/OnhunqueansLstRetrieve.laf?onhunqnaAstSeq=96\" id=\"ast_16\" title=\"환경/에너지\">환경/에너지</a>\n"
     ]
    },
    {
     "name": "stderr",
     "output_type": "stream",
     "text": [
      " 89%|████████▉ | 17/19 [00:46<00:04,  2.34s/it]"
     ]
    },
    {
     "name": "stdout",
     "output_type": "stream",
     "text": [
      "<a class=\"ast_17\" href=\"/CSP/OnhunqueansLstRetrieve.laf?onhunqnaAstSeq=86\" id=\"ast_17\" title=\"사회안전/범죄\">사회안전/범죄</a>\n"
     ]
    },
    {
     "name": "stderr",
     "output_type": "stream",
     "text": [
      " 95%|█████████▍| 18/19 [00:50<00:02,  2.77s/it]"
     ]
    },
    {
     "name": "stdout",
     "output_type": "stream",
     "text": [
      "<a class=\"ast_18\" href=\"/CSP/OnhunqueansLstRetrieve.laf?onhunqnaAstSeq=95\" id=\"ast_18\" title=\"국가 및 지자체\">국가 및 지자체</a>\n"
     ]
    },
    {
     "name": "stderr",
     "output_type": "stream",
     "text": [
      "100%|██████████| 19/19 [00:51<00:00,  2.71s/it]\n"
     ]
    }
   ],
   "source": [
    "soup = BeautifulSoup(response.text, 'html.parser')\n",
    "mainCategory = soup.find(\"div\", \"onehundred_category_title_list\") # main category list\n",
    "maxpg = 1 #list page 형식에 이용\n",
    "qna = \"\"  #list page 형식에 이용\n",
    "seq = -1  #list page 형식에 이용\n",
    "for main in tqdm(mainCategory.find_all('a')) : \n",
    "    if main['class'][0] == 'ast_all' : continue \n",
    "    print(main)\n",
    "    mainResponse = requests.get(base_page + main['href'])\n",
    "    soup = BeautifulSoup(mainResponse.text, 'html.parser')\n",
    "    cat = soup.find('ul','qa_tab')\n",
    "    \n",
    "    for sub in cat.find_all('a'):\n",
    "        maxpg = 1\n",
    "        # subb = requests.get(base_page + '/CSP/' + sub['href'])\n",
    "        # soup = BeautifulSoup(subb.text, 'html.parser')\n",
    "        \n",
    "        try :\n",
    "            pga = soup.find('a','nex0')\n",
    "            maxpg = int(pga['onclick'].split(',')[2].replace(\"'\",''))\n",
    "            qna = str(pga['onclick'].split(',')[3].replace(\"'\",''))\n",
    "            seq = int(pga['onclick'].split(',')[4].replace(\"'\",''))\n",
    "        except Exception as ex :\n",
    "            pass\n",
    "         \n",
    "    # for sub in cat.find_all('a') :\n",
    "    #     print(sub)\n",
    "    for r in range(1, maxpg + 1) : \n",
    "        req = requests.get(base_page + '/CSP/OnhunqueansLstRetrieve.laf?curPage=' + str(r) + '&search_put=&astSeq=' + str(qna) + '&onhunqnaAstSeq=' + str(seq) + '&pageType=20')\n",
    "        soup2 = BeautifulSoup(req.text, 'html.parser')                \n",
    "        qaa = soup2.find_all('li','qa')\n",
    "        for text in qaa:\n",
    "            input_ = f\"{main['title']}, {sub['title']}\"\n",
    "            instruction = text.find('a').text.replace('\\r\\n', '').strip(' ')\n",
    "            output = text.find('p').text\n",
    "            df.loc[cnt] = [instruction, input_, output]\n",
    "            cnt += 1"
   ]
  },
  {
   "cell_type": "code",
   "execution_count": 11,
   "metadata": {},
   "outputs": [
    {
     "data": {
      "text/html": [
       "<div>\n",
       "<style scoped>\n",
       "    .dataframe tbody tr th:only-of-type {\n",
       "        vertical-align: middle;\n",
       "    }\n",
       "\n",
       "    .dataframe tbody tr th {\n",
       "        vertical-align: top;\n",
       "    }\n",
       "\n",
       "    .dataframe thead th {\n",
       "        text-align: right;\n",
       "    }\n",
       "</style>\n",
       "<table border=\"1\" class=\"dataframe\">\n",
       "  <thead>\n",
       "    <tr style=\"text-align: right;\">\n",
       "      <th></th>\n",
       "      <th>instruction</th>\n",
       "      <th>input</th>\n",
       "      <th>output</th>\n",
       "    </tr>\n",
       "  </thead>\n",
       "  <tbody>\n",
       "    <tr>\n",
       "      <th>0</th>\n",
       "      <td>동거 중인데 갑자기 헤어지자는 통보를 받았어요. 사실혼인 경우에도 위자료를 받을 수...</td>\n",
       "      <td>가정법률, 후견</td>\n",
       "      <td>위자료를 받을 수 있습니다. 사실혼은 부부간 합의 또는 부부 어느 한 쪽의 일방적인...</td>\n",
       "    </tr>\n",
       "    <tr>\n",
       "      <th>1</th>\n",
       "      <td>이혼이 취소될 수 있나요?</td>\n",
       "      <td>가정법률, 후견</td>\n",
       "      <td>재판상 이혼은 재판절차를 거쳐 이혼판결이 선고된 것이므로 취소될 수 없지만, 협의이...</td>\n",
       "    </tr>\n",
       "    <tr>\n",
       "      <th>2</th>\n",
       "      <td>이혼해도 자녀를 만날 수 있나요?</td>\n",
       "      <td>가정법률, 후견</td>\n",
       "      <td>이혼 후 자녀를 직접 양육하지 않는 부모 일방과 자녀는 서로 만나거나 연락할 수 있...</td>\n",
       "    </tr>\n",
       "    <tr>\n",
       "      <th>3</th>\n",
       "      <td>이혼한 후에 자녀의 성과 본을 저의 성과 본으로 바꿀 수 있나요?</td>\n",
       "      <td>가정법률, 후견</td>\n",
       "      <td>이혼 후 자녀의 성과 본을 자신의 성과 본으로 바꿀 수 있습니다. ◇ 법원 허가 자...</td>\n",
       "    </tr>\n",
       "    <tr>\n",
       "      <th>4</th>\n",
       "      <td>동거 중인데 헤어지기로 합의했어요. 둘 사이에 아이가 있는데 헤어진 후 아이의 아빠...</td>\n",
       "      <td>가정법률, 후견</td>\n",
       "      <td>사실혼 부부 사이에서 태어난 자녀는 ‘혼인 외의 출생자’로서 아버지와 법적 관계가 ...</td>\n",
       "    </tr>\n",
       "    <tr>\n",
       "      <th>...</th>\n",
       "      <td>...</td>\n",
       "      <td>...</td>\n",
       "      <td>...</td>\n",
       "    </tr>\n",
       "    <tr>\n",
       "      <th>2645</th>\n",
       "      <td>시청에 정기적으로 문구류를 납품하는 수의계약에 참여했는데, 수의계약의 계약상대자는 ...</td>\n",
       "      <td>국가 및 지자체, 지방자치와 주민의 권리</td>\n",
       "      <td>수의계약대상자는 견적제출자의 견적가격과 계약이행능력 등에 따라 결정되며, 원칙적으로...</td>\n",
       "    </tr>\n",
       "    <tr>\n",
       "      <th>2646</th>\n",
       "      <td>물품계약을 체결한 후 물가가 급격히 올라서 계약 당시의 금액으로는 수량을 맞추기 어...</td>\n",
       "      <td>국가 및 지자체, 지방자치와 주민의 권리</td>\n",
       "      <td>아니요. 물품계약을 체결한 날부터 90일 이상 지난 후 입찰일을 기준일로 하여 품목...</td>\n",
       "    </tr>\n",
       "    <tr>\n",
       "      <th>2647</th>\n",
       "      <td>계약을 체결한 후에는 계약 완료 전이라도 대금을 미리 받을 수 있다고 하던데, 얼마...</td>\n",
       "      <td>국가 및 지자체, 지방자치와 주민의 권리</td>\n",
       "      <td>계약을 이행하기 전이라도 일정 요건에 해당하면 계약금액의 100분의 70을 초과하지...</td>\n",
       "    </tr>\n",
       "    <tr>\n",
       "      <th>2648</th>\n",
       "      <td>물품을 납품하기 직전에 천재지변 등 불가항력의 사유로 대형화재가 발생하여 해당 물품...</td>\n",
       "      <td>국가 및 지자체, 지방자치와 주민의 권리</td>\n",
       "      <td>계약상대자의 책임 없이 이행이 지체되는 경우에는 계약기간 연장신청을 할 수 있고, ...</td>\n",
       "    </tr>\n",
       "    <tr>\n",
       "      <th>2649</th>\n",
       "      <td>물품계약 입찰의 참가자격이 안된다고 해서 이의신청을 했고 결과를 받았는데, 그 결과...</td>\n",
       "      <td>국가 및 지자체, 지방자치와 주민의 권리</td>\n",
       "      <td>아니요. 이의신청에 따른 조치에 대하여 이의가 있으면 재심(再審)을 청구할 수 있습...</td>\n",
       "    </tr>\n",
       "  </tbody>\n",
       "</table>\n",
       "<p>2650 rows × 3 columns</p>\n",
       "</div>"
      ],
      "text/plain": [
       "                                            instruction  \\\n",
       "0     동거 중인데 갑자기 헤어지자는 통보를 받았어요. 사실혼인 경우에도 위자료를 받을 수...   \n",
       "1                                        이혼이 취소될 수 있나요?   \n",
       "2                                    이혼해도 자녀를 만날 수 있나요?   \n",
       "3                  이혼한 후에 자녀의 성과 본을 저의 성과 본으로 바꿀 수 있나요?   \n",
       "4     동거 중인데 헤어지기로 합의했어요. 둘 사이에 아이가 있는데 헤어진 후 아이의 아빠...   \n",
       "...                                                 ...   \n",
       "2645  시청에 정기적으로 문구류를 납품하는 수의계약에 참여했는데, 수의계약의 계약상대자는 ...   \n",
       "2646  물품계약을 체결한 후 물가가 급격히 올라서 계약 당시의 금액으로는 수량을 맞추기 어...   \n",
       "2647  계약을 체결한 후에는 계약 완료 전이라도 대금을 미리 받을 수 있다고 하던데, 얼마...   \n",
       "2648  물품을 납품하기 직전에 천재지변 등 불가항력의 사유로 대형화재가 발생하여 해당 물품...   \n",
       "2649  물품계약 입찰의 참가자격이 안된다고 해서 이의신청을 했고 결과를 받았는데, 그 결과...   \n",
       "\n",
       "                       input  \\\n",
       "0                   가정법률, 후견   \n",
       "1                   가정법률, 후견   \n",
       "2                   가정법률, 후견   \n",
       "3                   가정법률, 후견   \n",
       "4                   가정법률, 후견   \n",
       "...                      ...   \n",
       "2645  국가 및 지자체, 지방자치와 주민의 권리   \n",
       "2646  국가 및 지자체, 지방자치와 주민의 권리   \n",
       "2647  국가 및 지자체, 지방자치와 주민의 권리   \n",
       "2648  국가 및 지자체, 지방자치와 주민의 권리   \n",
       "2649  국가 및 지자체, 지방자치와 주민의 권리   \n",
       "\n",
       "                                                 output  \n",
       "0     위자료를 받을 수 있습니다. 사실혼은 부부간 합의 또는 부부 어느 한 쪽의 일방적인...  \n",
       "1     재판상 이혼은 재판절차를 거쳐 이혼판결이 선고된 것이므로 취소될 수 없지만, 협의이...  \n",
       "2     이혼 후 자녀를 직접 양육하지 않는 부모 일방과 자녀는 서로 만나거나 연락할 수 있...  \n",
       "3     이혼 후 자녀의 성과 본을 자신의 성과 본으로 바꿀 수 있습니다. ◇ 법원 허가 자...  \n",
       "4     사실혼 부부 사이에서 태어난 자녀는 ‘혼인 외의 출생자’로서 아버지와 법적 관계가 ...  \n",
       "...                                                 ...  \n",
       "2645  수의계약대상자는 견적제출자의 견적가격과 계약이행능력 등에 따라 결정되며, 원칙적으로...  \n",
       "2646  아니요. 물품계약을 체결한 날부터 90일 이상 지난 후 입찰일을 기준일로 하여 품목...  \n",
       "2647  계약을 이행하기 전이라도 일정 요건에 해당하면 계약금액의 100분의 70을 초과하지...  \n",
       "2648  계약상대자의 책임 없이 이행이 지체되는 경우에는 계약기간 연장신청을 할 수 있고, ...  \n",
       "2649  아니요. 이의신청에 따른 조치에 대하여 이의가 있으면 재심(再審)을 청구할 수 있습...  \n",
       "\n",
       "[2650 rows x 3 columns]"
      ]
     },
     "execution_count": 11,
     "metadata": {},
     "output_type": "execute_result"
    }
   ],
   "source": [
    "df"
   ]
  },
  {
   "cell_type": "code",
   "execution_count": 9,
   "metadata": {},
   "outputs": [
    {
     "data": {
      "text/plain": [
       "array(['가정법률, 후견', '아동·청소년/교육, 해외유학자', '부동산/임대차, 주택임대차', '금융/보험, 지역사랑상품권',\n",
       "       '사업, 협동조합 설립·운영', '창업, 학원의 설립ㆍ운영 및 과외교습', '무역/출입국, 출입국 검역',\n",
       "       '소비자, 화장품', '문화/여가생활, 해외여행자', '민형사/소송, 행정심판',\n",
       "       '교통/운전, 화물자동차 운송사업(개인)', '근로/노동, 해고근로자', '복지, 한부모가족',\n",
       "       '국방/보훈, 예비군 및 민방위', '정보통신/기술, 휴대전화 이용자', '환경/에너지, 환경표지인증',\n",
       "       '사회안전/범죄, 폭행·상해', '국가 및 지자체, 지방자치와 주민의 권리'], dtype=object)"
      ]
     },
     "execution_count": 9,
     "metadata": {},
     "output_type": "execute_result"
    }
   ],
   "source": [
    "df['input'].unique()"
   ]
  },
  {
   "cell_type": "code",
   "execution_count": 49,
   "metadata": {},
   "outputs": [],
   "source": [
    "df.to_csv(\"../data/law-all-data.csv\", index=False)"
   ]
  },
  {
   "cell_type": "code",
   "execution_count": null,
   "metadata": {},
   "outputs": [],
   "source": []
  }
 ],
 "metadata": {
  "kernelspec": {
   "display_name": "llm",
   "language": "python",
   "name": "llm"
  },
  "language_info": {
   "codemirror_mode": {
    "name": "ipython",
    "version": 3
   },
   "file_extension": ".py",
   "mimetype": "text/x-python",
   "name": "python",
   "nbconvert_exporter": "python",
   "pygments_lexer": "ipython3",
   "version": "3.11.5"
  }
 },
 "nbformat": 4,
 "nbformat_minor": 2
}
