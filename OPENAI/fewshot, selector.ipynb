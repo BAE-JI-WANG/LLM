{
 "cells": [
  {
   "cell_type": "markdown",
   "metadata": {},
   "source": [
    "### FewshotPromptTemplate"
   ]
  },
  {
   "cell_type": "code",
   "execution_count": 1,
   "metadata": {},
   "outputs": [],
   "source": [
    "from langchain.chat_models import ChatOpenAI\n",
    "from langchain.prompts import PromptTemplate\n",
    "from langchain.prompts.few_shot import FewShotPromptTemplate\n",
    "from langchain.callbacks import StreamingStdOutCallbackHandler"
   ]
  },
  {
   "cell_type": "code",
   "execution_count": 2,
   "metadata": {},
   "outputs": [],
   "source": [
    "from dotenv import dotenv_values\n",
    "import os\n",
    "\n",
    "env_vars = dotenv_values('../.env')\n",
    "\n",
    "os.environ['OPENAI_API_KEY'] = env_vars.get('OPENAI_API_KEY')"
   ]
  },
  {
   "cell_type": "code",
   "execution_count": 3,
   "metadata": {},
   "outputs": [],
   "source": [
    "model = ChatOpenAI(\n",
    "    temperature=0.1,\n",
    "    streaming=True,\n",
    "    callbacks=[StreamingStdOutCallbackHandler()]\n",
    ")"
   ]
  },
  {
   "cell_type": "code",
   "execution_count": 9,
   "metadata": {},
   "outputs": [],
   "source": [
    "examples = [\n",
    "    {\n",
    "        \"question\": \"프랑스에 대해 무엇을 알고 있습니까?\",\n",
    "        \"answer\": \"\"\"\n",
    "        알고 있는 것:\n",
    "        수도 : 파리\n",
    "        언어 : French\n",
    "        음식 : 와인, 치즈\n",
    "        화폐 : 유로\n",
    "        \"\"\",\n",
    "    },\n",
    "    {\n",
    "        \"question\": \"이탈리아에 대해 무엇을 알고 있습니까?\",\n",
    "        \"answer\": \"\"\"\n",
    "        알고 있는 것:\n",
    "        수도 : 로마\n",
    "        언어 : Italian\n",
    "        음식 : 피자, 파스타\n",
    "        화폐 : 유로\n",
    "        \"\"\",\n",
    "    },\n",
    "        {\n",
    "        \"question\": \"그리스에 대해 무엇을 알고 있습니까?\",\n",
    "        \"answer\": \"\"\"\n",
    "        알고 있는 것:\n",
    "        수도 : 아테네\n",
    "        언어 : Greek\n",
    "        음식 : 수블라키, 페타 치즈\n",
    "        화폐 : 유로\n",
    "        \"\"\",\n",
    "    }\n",
    "]"
   ]
  },
  {
   "cell_type": "code",
   "execution_count": 11,
   "metadata": {},
   "outputs": [
    {
     "name": "stdout",
     "output_type": "stream",
     "text": [
      "프랑스는 유럽 대륙의 서쪽에 위치한 나라로, 파리를 수도로 가지고 있습니다. 프랑스는 세계적으로 유명한 문화와 예술, 요리, 패션 등으로 알려져 있으며, 에펠탑, 루브르 박물관, 베르사유 궁전 등 많은 유명한 관광지가 있습니다. 프랑스는 또한 세계에서 가장 방문자 수가 많은 나라 중 하나이며, 와인과 치즈 등의 다양한 음식 문화로도 유명합니다. 프랑스는 유럽 연합의 중요한 회원국이며, 세계 경제에서도 큰 역할을 합니다."
     ]
    },
    {
     "data": {
      "text/plain": [
       "'프랑스는 유럽 대륙의 서쪽에 위치한 나라로, 파리를 수도로 가지고 있습니다. 프랑스는 세계적으로 유명한 문화와 예술, 요리, 패션 등으로 알려져 있으며, 에펠탑, 루브르 박물관, 베르사유 궁전 등 많은 유명한 관광지가 있습니다. 프랑스는 또한 세계에서 가장 방문자 수가 많은 나라 중 하나이며, 와인과 치즈 등의 다양한 음식 문화로도 유명합니다. 프랑스는 유럽 연합의 중요한 회원국이며, 세계 경제에서도 큰 역할을 합니다.'"
      ]
     },
     "execution_count": 11,
     "metadata": {},
     "output_type": "execute_result"
    }
   ],
   "source": [
    "model.predict(\"프랑스에 대해 무엇을 알고 있습니까?\")"
   ]
  },
  {
   "cell_type": "markdown",
   "metadata": {},
   "source": [
    "- suffix는 형식화된 모든 예제 마지막에 나오는 내용 (사용자 질문)"
   ]
  },
  {
   "cell_type": "code",
   "execution_count": 14,
   "metadata": {},
   "outputs": [
    {
     "data": {
      "text/plain": [
       "'Human: 프랑스에 대해 무엇을 알고 있습니까?\\nAI: \\n        알고 있는 것:\\n        수도 : 파리\\n        언어 : French\\n        음식 : 와인, 치즈\\n        화폐 : 유로\\n        \\n\\nHuman: 이탈리아에 대해 무엇을 알고 있습니까?\\nAI: \\n        알고 있는 것:\\n        수도 : 로마\\n        언어 : Italian\\n        음식 : 피자, 파스타\\n        화폐 : 유로\\n        \\n\\nHuman: 그리스에 대해 무엇을 알고 있습니까?\\nAI: \\n        알고 있는 것:\\n        수도 : 아테네\\n        언어 : Greek\\n        음식 : 수블라키, 페타 치즈\\n        화폐 : 유로\\n        \\n\\nHuman: 일본에 대해 무엇을 알고 있습니까?'"
      ]
     },
     "execution_count": 14,
     "metadata": {},
     "output_type": "execute_result"
    }
   ],
   "source": [
    "examples_prompt = PromptTemplate.from_template(\"Human: {question}\\nAI: {answer}\")\n",
    "\n",
    "prompt = FewShotPromptTemplate(\n",
    "    example_prompt=examples_prompt,\n",
    "    examples=examples,\n",
    "    suffix=\"Human: {country}에 대해 무엇을 알고 있습니까?\",\n",
    "    input_variables=[\"country\"]\n",
    ")\n",
    "\n",
    "prompt.format(country=\"일본\")"
   ]
  },
  {
   "cell_type": "code",
   "execution_count": 15,
   "metadata": {},
   "outputs": [
    {
     "name": "stdout",
     "output_type": "stream",
     "text": [
      "AI: \n",
      "        알고 있는 것:\n",
      "        수도 : 도쿄\n",
      "        언어 : Japanese\n",
      "        음식 : 초밥, 라면\n",
      "        화폐 : 엔"
     ]
    },
    {
     "data": {
      "text/plain": [
       "AIMessageChunk(content='AI: \\n        알고 있는 것:\\n        수도 : 도쿄\\n        언어 : Japanese\\n        음식 : 초밥, 라면\\n        화폐 : 엔')"
      ]
     },
     "execution_count": 15,
     "metadata": {},
     "output_type": "execute_result"
    }
   ],
   "source": [
    "chain = prompt | model\n",
    "chain.invoke({\n",
    "    \"country\": \"일본\"\n",
    "})"
   ]
  },
  {
   "cell_type": "markdown",
   "metadata": {},
   "source": [
    "### FewShotChatMessagePromptTemplate"
   ]
  },
  {
   "cell_type": "code",
   "execution_count": 4,
   "metadata": {},
   "outputs": [],
   "source": [
    "from langchain.prompts.few_shot import FewShotChatMessagePromptTemplate\n",
    "from langchain.prompts import ChatPromptTemplate"
   ]
  },
  {
   "cell_type": "code",
   "execution_count": 5,
   "metadata": {},
   "outputs": [],
   "source": [
    "examples = [\n",
    "    {\n",
    "        \"country\": \"프랑스\",\n",
    "        \"answer\": \"\"\"\n",
    "        알고 있는 것:\n",
    "        수도 : 파리\n",
    "        언어 : French\n",
    "        음식 : 와인, 치즈\n",
    "        화폐 : 유로\n",
    "        \"\"\",\n",
    "    },\n",
    "    {\n",
    "        \"country\": \"이탈리아\",\n",
    "        \"answer\": \"\"\"\n",
    "        알고 있는 것:\n",
    "        수도 : 로마\n",
    "        언어 : Italian\n",
    "        음식 : 피자, 파스타\n",
    "        화폐 : 유로\n",
    "        \"\"\",\n",
    "    },\n",
    "        {\n",
    "        \"country\": \"그리스\",\n",
    "        \"answer\": \"\"\"\n",
    "        알고 있는 것:\n",
    "        수도 : 아테네\n",
    "        언어 : Greek\n",
    "        음식 : 수블라키, 페타 치즈\n",
    "        화폐 : 유로\n",
    "        \"\"\",\n",
    "    }\n",
    "]"
   ]
  },
  {
   "cell_type": "code",
   "execution_count": 7,
   "metadata": {},
   "outputs": [
    {
     "name": "stdout",
     "output_type": "stream",
     "text": [
      "\n",
      "        알고 있는 것:\n",
      "        수도 : 베이징\n",
      "        언어 : 중국어\n",
      "        음식 : 짜장면, 탕수육\n",
      "        화폐 : 위안\n",
      "        중국은 역사적으로 오랜 세월 동안 발전해온 문화와 전통을 가지고 있으며, 세계에서 가장 인구가 많은 국가 중 하나입니다. 중국은 또한 다양한 지리적 특성과 자연 장관을 가지고 있으며, 중국의 역사적인 유적지와 명소들은 많은 관광객들에게 인기가 있습니다. 또한 중국은 세계에서 가장 큰 경제 국가 중 하나로, 글로벌 경제에 큰 영향을 미치고 있습니다."
     ]
    },
    {
     "data": {
      "text/plain": [
       "AIMessageChunk(content='\\n        알고 있는 것:\\n        수도 : 베이징\\n        언어 : 중국어\\n        음식 : 짜장면, 탕수육\\n        화폐 : 위안\\n        중국은 역사적으로 오랜 세월 동안 발전해온 문화와 전통을 가지고 있으며, 세계에서 가장 인구가 많은 국가 중 하나입니다. 중국은 또한 다양한 지리적 특성과 자연 장관을 가지고 있으며, 중국의 역사적인 유적지와 명소들은 많은 관광객들에게 인기가 있습니다. 또한 중국은 세계에서 가장 큰 경제 국가 중 하나로, 글로벌 경제에 큰 영향을 미치고 있습니다.')"
      ]
     },
     "execution_count": 7,
     "metadata": {},
     "output_type": "execute_result"
    }
   ],
   "source": [
    "prompt = ChatPromptTemplate.from_messages([\n",
    "    (\"human\", \"{country}에 대해 무엇을 알고 있습니까?\"),\n",
    "    (\"ai\", \"{answer}\")\n",
    "])\n",
    "\n",
    "example_prompt = FewShotChatMessagePromptTemplate(\n",
    "    example_prompt=prompt,\n",
    "    examples=examples,\n",
    ")\n",
    "\n",
    "final_prompt = ChatPromptTemplate.from_messages([\n",
    "    (\"system\", \"너는 전문적인 지질학자 입니다. 당신은 추가적인 답변을 해야합니다.\"),\n",
    "    example_prompt,\n",
    "    (\"human\", \"{country}에 대해 무엇을 알고 있습니까?\")\n",
    "])\n",
    "\n",
    "chain = final_prompt | model\n",
    "chain.invoke({\"country\": \"중국\"})"
   ]
  },
  {
   "cell_type": "markdown",
   "metadata": {},
   "source": [
    "## LengthBasedExampleSelector"
   ]
  },
  {
   "cell_type": "code",
   "execution_count": 11,
   "metadata": {},
   "outputs": [],
   "source": [
    "from langchain.prompts.example_selector import LengthBasedExampleSelector"
   ]
  },
  {
   "cell_type": "code",
   "execution_count": 12,
   "metadata": {},
   "outputs": [],
   "source": [
    "examples = [\n",
    "    {\n",
    "        \"question\": \"프랑스에 대해 무엇을 알고 있습니까?\",\n",
    "        \"answer\": \"\"\"\n",
    "        알고 있는 것:\n",
    "        수도 : 파리\n",
    "        언어 : French\n",
    "        음식 : 와인, 치즈\n",
    "        화폐 : 유로\n",
    "        \"\"\",\n",
    "    },\n",
    "    {\n",
    "        \"question\": \"이탈리아에 대해 무엇을 알고 있습니까?\",\n",
    "        \"answer\": \"\"\"\n",
    "        알고 있는 것:\n",
    "        수도 : 로마\n",
    "        언어 : Italian\n",
    "        음식 : 피자, 파스타\n",
    "        화폐 : 유로\n",
    "        \"\"\",\n",
    "    },\n",
    "        {\n",
    "        \"question\": \"그리스에 대해 무엇을 알고 있습니까?\",\n",
    "        \"answer\": \"\"\"\n",
    "        알고 있는 것:\n",
    "        수도 : 아테네\n",
    "        언어 : Greek\n",
    "        음식 : 수블라키, 페타 치즈\n",
    "        화폐 : 유로\n",
    "        \"\"\",\n",
    "    }\n",
    "]"
   ]
  },
  {
   "cell_type": "code",
   "execution_count": 15,
   "metadata": {},
   "outputs": [
    {
     "data": {
      "text/plain": [
       "'Human: 프랑스에 대해 무엇을 알고 있습니까?\\nAI: \\n        알고 있는 것:\\n        수도 : 파리\\n        언어 : French\\n        음식 : 와인, 치즈\\n        화폐 : 유로\\n        \\n\\nHuman: 이탈리아에 대해 무엇을 알고 있습니까?\\nAI: \\n        알고 있는 것:\\n        수도 : 로마\\n        언어 : Italian\\n        음식 : 피자, 파스타\\n        화폐 : 유로\\n        \\n\\nHuman: 일본에 대해 무엇을 알고 있습니까?'"
      ]
     },
     "execution_count": 15,
     "metadata": {},
     "output_type": "execute_result"
    }
   ],
   "source": [
    "examples_prompt = PromptTemplate.from_template(\"Human: {question}\\nAI: {answer}\")\n",
    "\n",
    "example_selector = LengthBasedExampleSelector(\n",
    "    examples=examples,\n",
    "    example_prompt=examples_prompt,\n",
    "    max_length=180\n",
    ")\n",
    "\n",
    "prompt = FewShotPromptTemplate(\n",
    "    example_prompt=examples_prompt,\n",
    "    example_selector=example_selector,\n",
    "    suffix=\"Human: {country}에 대해 무엇을 알고 있습니까?\",\n",
    "    input_variables=[\"country\"]\n",
    ")\n",
    "\n",
    "prompt.format(country=\"일본\")"
   ]
  },
  {
   "cell_type": "code",
   "execution_count": 25,
   "metadata": {},
   "outputs": [],
   "source": [
    "from langchain.prompts.example_selector.base import BaseExampleSelector\n",
    "\n",
    "class RandomExampleSelector(BaseExampleSelector):\n",
    "    def __init__(self, examples):\n",
    "        self.examples = examples\n",
    "        \n",
    "    def add_example(self, example):\n",
    "        self.examples.append(example)\n",
    "    \n",
    "    def select_examples(self, input_variables):\n",
    "        from random import choice\n",
    "        return [choice(self.examples)]"
   ]
  },
  {
   "cell_type": "code",
   "execution_count": 27,
   "metadata": {},
   "outputs": [
    {
     "data": {
      "text/plain": [
       "'Human: 프랑스에 대해 무엇을 알고 있습니까?\\nAI: \\n        알고 있는 것:\\n        수도 : 파리\\n        언어 : French\\n        음식 : 와인, 치즈\\n        화폐 : 유로\\n        \\n\\nHuman: 일본에 대해 무엇을 알고 있습니까?'"
      ]
     },
     "execution_count": 27,
     "metadata": {},
     "output_type": "execute_result"
    }
   ],
   "source": [
    "examples_prompt = PromptTemplate.from_template(\"Human: {question}\\nAI: {answer}\")\n",
    "\n",
    "example_selector = RandomExampleSelector(\n",
    "    examples=examples,\n",
    ")\n",
    "\n",
    "prompt = FewShotPromptTemplate(\n",
    "    example_prompt=examples_prompt,\n",
    "    example_selector=example_selector,\n",
    "    suffix=\"Human: {country}에 대해 무엇을 알고 있습니까?\",\n",
    "    input_variables=[\"country\"]\n",
    ")\n",
    "\n",
    "prompt.format(country=\"일본\")"
   ]
  },
  {
   "cell_type": "code",
   "execution_count": null,
   "metadata": {},
   "outputs": [],
   "source": []
  }
 ],
 "metadata": {
  "kernelspec": {
   "display_name": "env",
   "language": "python",
   "name": "python3"
  },
  "language_info": {
   "codemirror_mode": {
    "name": "ipython",
    "version": 3
   },
   "file_extension": ".py",
   "mimetype": "text/x-python",
   "name": "python",
   "nbconvert_exporter": "python",
   "pygments_lexer": "ipython3",
   "version": "3.11.7"
  }
 },
 "nbformat": 4,
 "nbformat_minor": 2
}
