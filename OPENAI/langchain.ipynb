{
 "cells": [
  {
   "cell_type": "markdown",
   "metadata": {},
   "source": [
    "### LangChain\n",
    "https://python.langchain.com/docs/get_started/quickstart#llm--chat-model"
   ]
  },
  {
   "cell_type": "code",
   "execution_count": 41,
   "metadata": {},
   "outputs": [],
   "source": [
    "from langchain.chat_models import ChatOpenAI"
   ]
  },
  {
   "cell_type": "code",
   "execution_count": 42,
   "metadata": {},
   "outputs": [],
   "source": [
    "from dotenv import dotenv_values\n",
    "import os\n",
    "\n",
    "env_vars = dotenv_values('../.env')\n",
    "\n",
    "os.environ['OPENAI_API_KEY'] = env_vars.get('OPENAI_API_KEY')"
   ]
  },
  {
   "cell_type": "code",
   "execution_count": 43,
   "metadata": {},
   "outputs": [],
   "source": [
    "chat = ChatOpenAI(temperature=0.1)"
   ]
  },
  {
   "cell_type": "markdown",
   "metadata": {},
   "source": [
    "- System : AI에게 해야 할 일을 알려주는 배경 컨텍스트\n",
    "- Human : 사용자 메세지\n",
    "- AI : AI가 응답한 내용을 보여주는 상세 메세지\n"
   ]
  },
  {
   "cell_type": "code",
   "execution_count": 45,
   "metadata": {},
   "outputs": [],
   "source": [
    "from langchain.schema import HumanMessage, AIMessage, SystemMessage\n",
    "\n",
    "messages = [\n",
    "    SystemMessage(content=\"너는 인프라 전문가이다. 그리고 대답은 English로만 합니다.\"),\n",
    "    AIMessage(content=\"Hello, i am jiking\"),\n",
    "    HumanMessage(content=\"aws와 gcp의 차이는 무엇이며, 당신의 이름은 무엇입니까?\")\n",
    "]"
   ]
  },
  {
   "cell_type": "code",
   "execution_count": 46,
   "metadata": {},
   "outputs": [
    {
     "data": {
      "text/plain": [
       "AIMessage(content='The main difference between AWS (Amazon Web Services) and GCP (Google Cloud Platform) lies in their providers and the specific services they offer. AWS is provided by Amazon, while GCP is provided by Google. Both platforms offer a wide range of cloud computing services, including compute, storage, networking, databases, and machine learning. However, there may be differences in the specific features, pricing models, and ecosystem of each platform.\\n\\nAs for my name, I am an AI language model developed by OpenAI, and I don\\'t have a personal name. You can simply refer to me as \"Assistant.\"')"
      ]
     },
     "execution_count": 46,
     "metadata": {},
     "output_type": "execute_result"
    }
   ],
   "source": [
    "chat.predict_messages(messages)"
   ]
  },
  {
   "cell_type": "markdown",
   "metadata": {},
   "source": [
    "### Prompt Template"
   ]
  },
  {
   "cell_type": "code",
   "execution_count": 52,
   "metadata": {},
   "outputs": [],
   "source": [
    "from langchain.prompts import PromptTemplate, ChatPromptTemplate"
   ]
  },
  {
   "cell_type": "code",
   "execution_count": 49,
   "metadata": {},
   "outputs": [
    {
     "data": {
      "text/plain": [
       "'AWS(Amazon Web Services)와 Azure(Microsoft Azure)는 모두 클라우드 컴퓨팅 서비스를 제공하는 대표적인 플랫폼입니다. 그러나 두 서비스는 몇 가지 차이점이 있습니다.\\n\\n1. 소유주: AWS는 아마존 닷컴이 소유하고 운영하는 서비스이며, Azure는 마이크로소프트가 소유하고 운영하는 서비스입니다.\\n\\n2. 시장 점유율: AWS는 현재 클라우드 컴퓨팅 시장에서 가장 큰 점유율을 보유하고 있습니다. Azure는 두 번째로 큰 점유율을 가지고 있지만, 최근에는 성장세를 보이고 있습니다.\\n\\n3. 서비스의 다양성: AWS는 다양한 서비스와 제품을 제공하며, 이는 사용자에게 유연성과 선택의 폭을 제공합니다. Azure도 다양한 서비스를 제공하지만, AWS에 비해 상대적으로 더 많은 서비스가 AWS에 의해 지원되고 있습니다.\\n\\n4. 가격: AWS와 Azure는 가격 책정 방식과 모델이 다릅니다. 두 서비스 모두 복잡한 가격 체계를 가지고 있으며, 서비스 및 지역에 따라 가격이 달라질 수 있습니다. 일반적으로 AWS는 초보자에게 더 저렴한 가격을 제공하는 경향이 있습니다.\\n\\n5. 기술 스택: AWS와 Azure는 각각 고유한 기술 스택을 가지고 있습니다. AWS는 EC2, S3, RDS 등의 서비스를 제공하며, Azure는 Virtual Machines, Blob Storage, SQL Database 등의 서비스를 제공합니다. 이러한 차이는 사용자가 선택할 수 있는 서비스와 기능의 범위에 영향을 미칩니다.\\n\\n6. 지역 및 데이터 센터: AWS와 Azure는 전 세계에 여러 지역과 데이터 센터를 보유하고 있습니다. 그러나 AWS는 더 많은 지역과 데이터 센터를 보유하고 있으며, 이는 사용자에게 더 넓은 선택의 폭을 제공합니다.\\n\\n이러한 차이점들은 사용자의 요구 사항과 우선 순위에 따라 선택할 수 있는 옵션을 제공합니다. 따라서 사용자는 자신의 비즈니스 요구 사항과 목표에 가장 적합한 클라우드 컴퓨팅 플랫폼을 선택할 수 있습니다.'"
      ]
     },
     "execution_count": 49,
     "metadata": {},
     "output_type": "execute_result"
    }
   ],
   "source": [
    "template = PromptTemplate.from_template(\"{cloud_a}와 {cloud_b}의 차이는 무엇입니까?\")\n",
    "\n",
    "prompt = template.format(cloud_a=\"aws\", cloud_b=\"azure\")\n",
    "chat = ChatOpenAI(temperature=0.1)\n",
    "chat.predict(prompt)"
   ]
  },
  {
   "cell_type": "markdown",
   "metadata": {},
   "source": [
    "### Chat Prompt Template"
   ]
  },
  {
   "cell_type": "code",
   "execution_count": 84,
   "metadata": {},
   "outputs": [],
   "source": [
    "template = ChatPromptTemplate.from_messages([\n",
    "    (\"system\", \"너는 인프라 전문가이다. 그리고 언어는 {language}로만 대답합니다.\"),\n",
    "    (\"ai\", \"Hello, i am {name}\"),\n",
    "    (\"human\", \"{cloud_a}와 {cloud_b}의 차이는 무엇이며, 당신의 이름은 무엇입니까?\")\n",
    "])"
   ]
  },
  {
   "cell_type": "code",
   "execution_count": 85,
   "metadata": {},
   "outputs": [],
   "source": [
    "prompt = template.format_messages(\n",
    "    language = \"일본어\",\n",
    "    name = \"bong\",\n",
    "    cloud_a = \"AWS\",\n",
    "    cloud_b = \"GCP\"\n",
    ")"
   ]
  },
  {
   "cell_type": "code",
   "execution_count": 86,
   "metadata": {},
   "outputs": [
    {
     "data": {
      "text/plain": [
       "AIMessage(content='AWS와 GCP는 클라우드 컴퓨팅 서비스를 제공하는 주요한 플랫폼입니다. AWS는 Amazon Web Services의 약자로, 아마존이 제공하는 클라우드 서비스입니다. GCP는 Google Cloud Platform의 약자로, 구글이 제공하는 클라우드 서비스입니다.\\n\\n두 플랫폼은 기능과 서비스의 다양성에서 차이가 있습니다. AWS는 가장 오랜 역사를 가지고 있으며, 다양한 서비스와 기능을 제공합니다. GCP는 구글의 강력한 인프라와 기술력을 바탕으로 개발되었으며, 특히 머신 러닝과 인공지능 분야에서 강점을 가지고 있습니다.\\n\\n저의 이름은 bong입니다. 저는 여러분의 인프라 관련 질문에 도움을 드릴 수 있습니다. 무엇을 도와드릴까요?')"
      ]
     },
     "execution_count": 86,
     "metadata": {},
     "output_type": "execute_result"
    }
   ],
   "source": [
    "chat = ChatOpenAI(temperature=0.1)\n",
    "chat.predict_messages(prompt)"
   ]
  },
  {
   "cell_type": "markdown",
   "metadata": {},
   "source": [
    "### Output Parser\n",
    "- LLM의 Response를 변형할 때\n",
    "ex) list, dict, tuple"
   ]
  },
  {
   "cell_type": "code",
   "execution_count": 87,
   "metadata": {},
   "outputs": [],
   "source": [
    "from langchain.chat_models import ChatOpenAI\n",
    "from langchain.prompts import ChatPromptTemplate\n",
    "\n",
    "chat = ChatOpenAI(temperature=0.1)"
   ]
  },
  {
   "cell_type": "code",
   "execution_count": 112,
   "metadata": {},
   "outputs": [],
   "source": [
    "from langchain.schema import BaseOutputParser\n",
    "\n",
    "class CommaOutputParser(BaseOutputParser):\n",
    "    def parse(self, text):\n",
    "        items = text.strip().split(\",\")\n",
    "        return list(map(str.strip, items))"
   ]
  },
  {
   "cell_type": "code",
   "execution_count": 91,
   "metadata": {},
   "outputs": [
    {
     "data": {
      "text/plain": [
       "['안녕', '반가워!']"
      ]
     },
     "execution_count": 91,
     "metadata": {},
     "output_type": "execute_result"
    }
   ],
   "source": [
    "p = CommaOutputParser()\n",
    "p.parse(\"안녕, 반가워!\")"
   ]
  },
  {
   "cell_type": "code",
   "execution_count": 105,
   "metadata": {},
   "outputs": [
    {
     "data": {
      "text/plain": [
       "AIMessage(content='リンゴ,バナナ,オレンジ,イチゴ,パイナップル,マンゴー,ブドウ,スイカ,メロン,キウイフルーツ')"
      ]
     },
     "execution_count": 105,
     "metadata": {},
     "output_type": "execute_result"
    }
   ],
   "source": [
    "template = ChatPromptTemplate.from_messages([\n",
    "    (\"system\", \"당신은 과일장수입니다. 당신이 요청한 모든 내용은 {max_items}개로 답변하며 ,로 분리해서 답변합니다, 그리고 언어는 {language}입니다. 다른 어떤 것으로도 답변하지 마십시오.\"),\n",
    "    (\"human\", \"{question}\")\n",
    "])\n",
    "\n",
    "prompt = template.format_messages(max_items=10, language=\"Japanese\", question=\"과일의 종류를 알려줘\")\n",
    "chat.predict_messages(prompt)"
   ]
  },
  {
   "cell_type": "code",
   "execution_count": 114,
   "metadata": {},
   "outputs": [
    {
     "data": {
      "text/plain": [
       "['apple',\n",
       " 'banana',\n",
       " 'orange',\n",
       " 'strawberry',\n",
       " 'pineapple',\n",
       " 'watermelon',\n",
       " 'grape',\n",
       " 'mango',\n",
       " 'kiwi',\n",
       " 'peach']"
      ]
     },
     "execution_count": 114,
     "metadata": {},
     "output_type": "execute_result"
    }
   ],
   "source": [
    "template = ChatPromptTemplate.from_messages([\n",
    "    (\"system\", \"당신은 과일장수입니다. 당신이 요청한 모든 내용은 {max_items}개로 답변하며 ,로 분리해서 답변합니다, 그리고 언어는 {language}입니다. 다른 어떤 것으로도 답변하지 마십시오.\"),\n",
    "    (\"human\", \"{question}\")\n",
    "])\n",
    "\n",
    "prompt = template.format_messages(max_items=10, language=\"English\", question=\"과일의 종류를 알려줘\")\n",
    "\n",
    "result = chat.predict_messages(prompt)\n",
    "p = CommaOutputParser()\n",
    "p.parse(result.content)"
   ]
  },
  {
   "cell_type": "markdown",
   "metadata": {},
   "source": [
    "### Langchain Expression Language"
   ]
  },
  {
   "cell_type": "code",
   "execution_count": 118,
   "metadata": {},
   "outputs": [
    {
     "data": {
      "text/plain": [
       "['딸기', '체리', '망고', '파인애플', '자두', '블루베리', '라즈베리', '포도', '석류', '코코넛']"
      ]
     },
     "execution_count": 118,
     "metadata": {},
     "output_type": "execute_result"
    }
   ],
   "source": [
    "template = ChatPromptTemplate.from_messages([\n",
    "    (\"system\", \"당신은 과일장수입니다. 당신이 요청한 모든 내용은 {max_items}개로 답변하며 ,로 분리해서 답변합니다, 그리고 언어는 {language}입니다. 다른 어떤 것으로도 답변하지 마십시오.\"),\n",
    "    (\"human\", \"{question}\")\n",
    "])\n",
    "\n",
    "chain = template | chat | CommaOutputParser()\n",
    "chain.invoke({\n",
    "    \"max_items\": 10,\n",
    "    \"language\" : \"korean\",\n",
    "    \"question\" : \"비싼 과일들은 무엇이 있어?\"\n",
    "})"
   ]
  },
  {
   "cell_type": "code",
   "execution_count": null,
   "metadata": {},
   "outputs": [],
   "source": []
  }
 ],
 "metadata": {
  "kernelspec": {
   "display_name": "env",
   "language": "python",
   "name": "python3"
  },
  "language_info": {
   "codemirror_mode": {
    "name": "ipython",
    "version": 3
   },
   "file_extension": ".py",
   "mimetype": "text/x-python",
   "name": "python",
   "nbconvert_exporter": "python",
   "pygments_lexer": "ipython3",
   "version": "3.11.7"
  }
 },
 "nbformat": 4,
 "nbformat_minor": 2
}
